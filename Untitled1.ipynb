{
 "cells": [
  {
   "cell_type": "code",
   "execution_count": 1,
   "metadata": {},
   "outputs": [
    {
     "name": "stderr",
     "output_type": "stream",
     "text": [
      "C:\\Users\\jeroe\\Anaconda3\\lib\\site-packages\\ipykernel_launcher.py:6: DeprecatedWarning: set_app_id is deprecated as of 0.1.12 and will be removed in 1.1.0. Use set_app_key function instead\n",
      "  \n"
     ]
    }
   ],
   "source": [
    "import numpy as np\n",
    "import pandas as pd\n",
    "import time\n",
    "\n",
    "import eikon as ek\n",
    "ek.set_app_id('604ea22425e048d39af0ef760ec9c64ebbe1fe68')\n"
   ]
  },
  {
   "cell_type": "code",
   "execution_count": 45,
   "metadata": {},
   "outputs": [
    {
     "data": {
      "text/plain": [
       "(    Instrument  BLKVOLUM\n",
       " 0  NGLNM4500W9       300, None)"
      ]
     },
     "metadata": {},
     "output_type": "display_data"
    }
   ],
   "source": [
    "NBP = ek.get_data(instruments=\"NGLNM4500W9\",fields=[\"BLKVOLUM\"])\n",
    "\n",
    "# NBP = ek.get_timeseries(\"NGLNM4500W9\",\"BLKVOLUM\")\n",
    "# NBP = ek.get_timeseries(\"NGLNM4500W9\",fields=[\"TR.BLKVOLUM.Timestamp\",\"TR.BLKVOLUM.Value\"])\n",
    "# NBP = ek.get_timeseries(\"NGLNM4000W9\")\n",
    "# NBP = ek.time_series(\"NGLNM4500W9\")\n",
    "display(NBP)"
   ]
  }
 ],
 "metadata": {
  "kernelspec": {
   "display_name": "Python 3",
   "language": "python",
   "name": "python3"
  },
  "language_info": {
   "codemirror_mode": {
    "name": "ipython",
    "version": 3
   },
   "file_extension": ".py",
   "mimetype": "text/x-python",
   "name": "python",
   "nbconvert_exporter": "python",
   "pygments_lexer": "ipython3",
   "version": "3.6.5"
  }
 },
 "nbformat": 4,
 "nbformat_minor": 2
}
