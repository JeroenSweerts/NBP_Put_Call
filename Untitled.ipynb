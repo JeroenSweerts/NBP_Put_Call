{
 "cells": [
  {
   "cell_type": "code",
   "execution_count": 1,
   "metadata": {},
   "outputs": [
    {
     "name": "stderr",
     "output_type": "stream",
     "text": [
      "C:\\Users\\jeroe\\Anaconda3\\lib\\site-packages\\ipykernel_launcher.py:6: DeprecatedWarning: set_app_id is deprecated as of 0.1.12 and will be removed in 1.1.0. Use set_app_key function instead\n",
      "  \n"
     ]
    }
   ],
   "source": [
    "import numpy as np\n",
    "import pandas as pd\n",
    "import time\n",
    "\n",
    "import eikon as ek\n",
    "ek.set_app_id('604ea22425e048d39af0ef760ec9c64ebbe1fe68')\n"
   ]
  },
  {
   "cell_type": "code",
   "execution_count": 2,
   "metadata": {},
   "outputs": [
    {
     "name": "stdout",
     "output_type": "stream",
     "text": [
      "['NGLNM0000Q0', 'NGLNM0050Q0', 'NGLNM0100Q0', 'NGLNM0150Q0', 'NGLNM0200Q0', 'NGLNM0250Q0', 'NGLNM0300Q0', 'NGLNM0350Q0', 'NGLNM0400Q0', 'NGLNM0450Q0', 'NGLNM0500Q0', 'NGLNM0550Q0', 'NGLNM0600Q0', 'NGLNM0650Q0', 'NGLNM0700Q0', 'NGLNM0750Q0', 'NGLNM0800Q0', 'NGLNM0850Q0', 'NGLNM0900Q0', 'NGLNM0950Q0', 'NGLNM1000Q0', 'NGLNM1050Q0', 'NGLNM1100Q0', 'NGLNM1150Q0', 'NGLNM1200Q0', 'NGLNM1250Q0', 'NGLNM1300Q0', 'NGLNM1350Q0', 'NGLNM1400Q0', 'NGLNM1450Q0', 'NGLNM1500Q0', 'NGLNM1550Q0', 'NGLNM1600Q0', 'NGLNM1650Q0', 'NGLNM1700Q0', 'NGLNM1750Q0', 'NGLNM1800Q0', 'NGLNM1850Q0', 'NGLNM1900Q0', 'NGLNM1950Q0', 'NGLNM2000Q0', 'NGLNM2050Q0', 'NGLNM2100Q0', 'NGLNM2150Q0', 'NGLNM2200Q0', 'NGLNM2250Q0', 'NGLNM2300Q0', 'NGLNM2350Q0', 'NGLNM2400Q0', 'NGLNM2450Q0', 'NGLNM2500Q0', 'NGLNM2550Q0', 'NGLNM2600Q0', 'NGLNM2650Q0', 'NGLNM2700Q0', 'NGLNM2750Q0', 'NGLNM2800Q0', 'NGLNM2850Q0', 'NGLNM2900Q0', 'NGLNM2950Q0', 'NGLNM3000Q0', 'NGLNM3050Q0', 'NGLNM3100Q0', 'NGLNM3150Q0', 'NGLNM3200Q0', 'NGLNM3250Q0', 'NGLNM3300Q0', 'NGLNM3350Q0', 'NGLNM3400Q0', 'NGLNM3450Q0', 'NGLNM3500Q0', 'NGLNM3550Q0', 'NGLNM3600Q0', 'NGLNM3650Q0', 'NGLNM3700Q0', 'NGLNM3750Q0', 'NGLNM3800Q0', 'NGLNM3850Q0', 'NGLNM3900Q0', 'NGLNM3950Q0', 'NGLNM4000Q0', 'NGLNM4050Q0', 'NGLNM4100Q0', 'NGLNM4150Q0', 'NGLNM4200Q0', 'NGLNM4250Q0', 'NGLNM4300Q0', 'NGLNM4350Q0', 'NGLNM4400Q0', 'NGLNM4450Q0', 'NGLNM4500Q0', 'NGLNM4550Q0', 'NGLNM4600Q0', 'NGLNM4650Q0', 'NGLNM4700Q0', 'NGLNM4750Q0', 'NGLNM4800Q0', 'NGLNM4850Q0', 'NGLNM4900Q0', 'NGLNM4950Q0', 'NGLNM5000Q0', 'NGLNM5050Q0', 'NGLNM5100Q0', 'NGLNM5150Q0', 'NGLNM5200Q0', 'NGLNM5250Q0', 'NGLNM5300Q0', 'NGLNM5350Q0', 'NGLNM5400Q0', 'NGLNM5450Q0', 'NGLNM5500Q0', 'NGLNM5550Q0', 'NGLNM5600Q0', 'NGLNM5650Q0', 'NGLNM5700Q0', 'NGLNM5750Q0', 'NGLNM5800Q0', 'NGLNM5850Q0', 'NGLNM5900Q0', 'NGLNM5950Q0', 'NGLNM6000Q0', 'NGLNM6050Q0', 'NGLNM6100Q0', 'NGLNM6150Q0', 'NGLNM6200Q0', 'NGLNM6250Q0', 'NGLNM6300Q0', 'NGLNM6350Q0', 'NGLNM6400Q0', 'NGLNM6450Q0', 'NGLNM6500Q0', 'NGLNM6550Q0', 'NGLNM6600Q0', 'NGLNM6650Q0', 'NGLNM6700Q0', 'NGLNM6750Q0', 'NGLNM6800Q0', 'NGLNM6850Q0', 'NGLNM6900Q0', 'NGLNM6950Q0', 'NGLNM7000Q0', 'NGLNM7050Q0', 'NGLNM7100Q0', 'NGLNM7150Q0', 'NGLNM7200Q0', 'NGLNM7250Q0', 'NGLNM7300Q0', 'NGLNM7350Q0', 'NGLNM7400Q0', 'NGLNM7450Q0', 'NGLNM7500Q0', 'NGLNM7550Q0', 'NGLNM7600Q0', 'NGLNM7650Q0', 'NGLNM7700Q0', 'NGLNM7750Q0', 'NGLNM7800Q0', 'NGLNM7850Q0', 'NGLNM7900Q0', 'NGLNM7950Q0', 'NGLNM8000Q0', 'NGLNM8050Q0', 'NGLNM8100Q0', 'NGLNM8150Q0', 'NGLNM8200Q0', 'NGLNM8250Q0', 'NGLNM8300Q0', 'NGLNM8350Q0', 'NGLNM8400Q0', 'NGLNM8450Q0', 'NGLNM8500Q0', 'NGLNM8550Q0', 'NGLNM8600Q0', 'NGLNM8650Q0', 'NGLNM8700Q0', 'NGLNM8750Q0', 'NGLNM8800Q0', 'NGLNM8850Q0', 'NGLNM8900Q0', 'NGLNM8950Q0', 'NGLNM9000Q0', 'NGLNM9050Q0', 'NGLNM9100Q0', 'NGLNM9150Q0', 'NGLNM9200Q0', 'NGLNM9250Q0', 'NGLNM9300Q0', 'NGLNM9350Q0', 'NGLNM9400Q0', 'NGLNM9450Q0', 'NGLNM9500Q0', 'NGLNM9550Q0', 'NGLNM9600Q0', 'NGLNM9650Q0', 'NGLNM9700Q0', 'NGLNM9750Q0', 'NGLNM9800Q0', 'NGLNM9850Q0', 'NGLNM9900Q0', 'NGLNM9950Q0']\n",
      "['NGLNM0000E0', 'NGLNM0050E0', 'NGLNM0100E0', 'NGLNM0150E0', 'NGLNM0200E0', 'NGLNM0250E0', 'NGLNM0300E0', 'NGLNM0350E0', 'NGLNM0400E0', 'NGLNM0450E0', 'NGLNM0500E0', 'NGLNM0550E0', 'NGLNM0600E0', 'NGLNM0650E0', 'NGLNM0700E0', 'NGLNM0750E0', 'NGLNM0800E0', 'NGLNM0850E0', 'NGLNM0900E0', 'NGLNM0950E0', 'NGLNM1000E0', 'NGLNM1050E0', 'NGLNM1100E0', 'NGLNM1150E0', 'NGLNM1200E0', 'NGLNM1250E0', 'NGLNM1300E0', 'NGLNM1350E0', 'NGLNM1400E0', 'NGLNM1450E0', 'NGLNM1500E0', 'NGLNM1550E0', 'NGLNM1600E0', 'NGLNM1650E0', 'NGLNM1700E0', 'NGLNM1750E0', 'NGLNM1800E0', 'NGLNM1850E0', 'NGLNM1900E0', 'NGLNM1950E0', 'NGLNM2000E0', 'NGLNM2050E0', 'NGLNM2100E0', 'NGLNM2150E0', 'NGLNM2200E0', 'NGLNM2250E0', 'NGLNM2300E0', 'NGLNM2350E0', 'NGLNM2400E0', 'NGLNM2450E0', 'NGLNM2500E0', 'NGLNM2550E0', 'NGLNM2600E0', 'NGLNM2650E0', 'NGLNM2700E0', 'NGLNM2750E0', 'NGLNM2800E0', 'NGLNM2850E0', 'NGLNM2900E0', 'NGLNM2950E0', 'NGLNM3000E0', 'NGLNM3050E0', 'NGLNM3100E0', 'NGLNM3150E0', 'NGLNM3200E0', 'NGLNM3250E0', 'NGLNM3300E0', 'NGLNM3350E0', 'NGLNM3400E0', 'NGLNM3450E0', 'NGLNM3500E0', 'NGLNM3550E0', 'NGLNM3600E0', 'NGLNM3650E0', 'NGLNM3700E0', 'NGLNM3750E0', 'NGLNM3800E0', 'NGLNM3850E0', 'NGLNM3900E0', 'NGLNM3950E0', 'NGLNM4000E0', 'NGLNM4050E0', 'NGLNM4100E0', 'NGLNM4150E0', 'NGLNM4200E0', 'NGLNM4250E0', 'NGLNM4300E0', 'NGLNM4350E0', 'NGLNM4400E0', 'NGLNM4450E0', 'NGLNM4500E0', 'NGLNM4550E0', 'NGLNM4600E0', 'NGLNM4650E0', 'NGLNM4700E0', 'NGLNM4750E0', 'NGLNM4800E0', 'NGLNM4850E0', 'NGLNM4900E0', 'NGLNM4950E0', 'NGLNM5000E0', 'NGLNM5050E0', 'NGLNM5100E0', 'NGLNM5150E0', 'NGLNM5200E0', 'NGLNM5250E0', 'NGLNM5300E0', 'NGLNM5350E0', 'NGLNM5400E0', 'NGLNM5450E0', 'NGLNM5500E0', 'NGLNM5550E0', 'NGLNM5600E0', 'NGLNM5650E0', 'NGLNM5700E0', 'NGLNM5750E0', 'NGLNM5800E0', 'NGLNM5850E0', 'NGLNM5900E0', 'NGLNM5950E0', 'NGLNM6000E0', 'NGLNM6050E0', 'NGLNM6100E0', 'NGLNM6150E0', 'NGLNM6200E0', 'NGLNM6250E0', 'NGLNM6300E0', 'NGLNM6350E0', 'NGLNM6400E0', 'NGLNM6450E0', 'NGLNM6500E0', 'NGLNM6550E0', 'NGLNM6600E0', 'NGLNM6650E0', 'NGLNM6700E0', 'NGLNM6750E0', 'NGLNM6800E0', 'NGLNM6850E0', 'NGLNM6900E0', 'NGLNM6950E0', 'NGLNM7000E0', 'NGLNM7050E0', 'NGLNM7100E0', 'NGLNM7150E0', 'NGLNM7200E0', 'NGLNM7250E0', 'NGLNM7300E0', 'NGLNM7350E0', 'NGLNM7400E0', 'NGLNM7450E0', 'NGLNM7500E0', 'NGLNM7550E0', 'NGLNM7600E0', 'NGLNM7650E0', 'NGLNM7700E0', 'NGLNM7750E0', 'NGLNM7800E0', 'NGLNM7850E0', 'NGLNM7900E0', 'NGLNM7950E0', 'NGLNM8000E0', 'NGLNM8050E0', 'NGLNM8100E0', 'NGLNM8150E0', 'NGLNM8200E0', 'NGLNM8250E0', 'NGLNM8300E0', 'NGLNM8350E0', 'NGLNM8400E0', 'NGLNM8450E0', 'NGLNM8500E0', 'NGLNM8550E0', 'NGLNM8600E0', 'NGLNM8650E0', 'NGLNM8700E0', 'NGLNM8750E0', 'NGLNM8800E0', 'NGLNM8850E0', 'NGLNM8900E0', 'NGLNM8950E0', 'NGLNM9000E0', 'NGLNM9050E0', 'NGLNM9100E0', 'NGLNM9150E0', 'NGLNM9200E0', 'NGLNM9250E0', 'NGLNM9300E0', 'NGLNM9350E0', 'NGLNM9400E0', 'NGLNM9450E0', 'NGLNM9500E0', 'NGLNM9550E0', 'NGLNM9600E0', 'NGLNM9650E0', 'NGLNM9700E0', 'NGLNM9750E0', 'NGLNM9800E0', 'NGLNM9850E0', 'NGLNM9900E0', 'NGLNM9950E0']\n"
     ]
    }
   ],
   "source": [
    "strikes = []\n",
    "\n",
    "for i in range(0,1000,5):\n",
    "    strike = str(i)+'0'\n",
    "    if len(strike) == 2:\n",
    "        strike = '00'+strike\n",
    "    if len(strike) == 3:\n",
    "        strike = '0'+strike\n",
    "    strikes.append(strike)\n",
    "\n",
    "tickers_calls = []\n",
    "tickers_puts = []\n",
    "for strike in strikes:\n",
    "    tickers_puts.append('NGLNM'+strike+'E0')\n",
    "for strike in strikes:\n",
    "    tickers_calls.append('NGLNM'+strike+'Q0')\n",
    "print(tickers_calls)\n",
    "print(tickers_puts)"
   ]
  },
  {
   "cell_type": "code",
   "execution_count": 3,
   "metadata": {
    "scrolled": true
   },
   "outputs": [
    {
     "name": "stdout",
     "output_type": "stream",
     "text": [
      "0\n"
     ]
    },
    {
     "name": "stderr",
     "output_type": "stream",
     "text": [
      "Error with NGLNM0000Q0: Invalid RIC\n",
      "NGLNM0000Q0: Invalid RIC | \n"
     ]
    },
    {
     "name": "stdout",
     "output_type": "stream",
     "text": [
      "1\n"
     ]
    },
    {
     "name": "stderr",
     "output_type": "stream",
     "text": [
      "Error with NGLNM0050Q0: Invalid RIC\n",
      "NGLNM0050Q0: Invalid RIC | \n"
     ]
    },
    {
     "name": "stdout",
     "output_type": "stream",
     "text": [
      "2\n"
     ]
    },
    {
     "name": "stderr",
     "output_type": "stream",
     "text": [
      "Error with NGLNM0100Q0: Invalid RIC\n",
      "NGLNM0100Q0: Invalid RIC | \n"
     ]
    },
    {
     "name": "stdout",
     "output_type": "stream",
     "text": [
      "3\n"
     ]
    },
    {
     "name": "stderr",
     "output_type": "stream",
     "text": [
      "Error with NGLNM0150Q0: Invalid RIC\n",
      "NGLNM0150Q0: Invalid RIC | \n"
     ]
    },
    {
     "name": "stdout",
     "output_type": "stream",
     "text": [
      "4\n"
     ]
    },
    {
     "name": "stderr",
     "output_type": "stream",
     "text": [
      "Error with NGLNM0200Q0: Invalid RIC\n",
      "NGLNM0200Q0: Invalid RIC | \n"
     ]
    },
    {
     "name": "stdout",
     "output_type": "stream",
     "text": [
      "5\n"
     ]
    },
    {
     "name": "stderr",
     "output_type": "stream",
     "text": [
      "Error with NGLNM0250Q0: Invalid RIC\n",
      "NGLNM0250Q0: Invalid RIC | \n"
     ]
    },
    {
     "name": "stdout",
     "output_type": "stream",
     "text": [
      "6\n"
     ]
    },
    {
     "name": "stderr",
     "output_type": "stream",
     "text": [
      "Error with NGLNM0300Q0: Invalid RIC\n",
      "NGLNM0300Q0: Invalid RIC | \n"
     ]
    },
    {
     "name": "stdout",
     "output_type": "stream",
     "text": [
      "7\n"
     ]
    },
    {
     "name": "stderr",
     "output_type": "stream",
     "text": [
      "Error with NGLNM0350Q0: Invalid RIC\n",
      "NGLNM0350Q0: Invalid RIC | \n"
     ]
    },
    {
     "name": "stdout",
     "output_type": "stream",
     "text": [
      "8\n"
     ]
    },
    {
     "name": "stderr",
     "output_type": "stream",
     "text": [
      "Error with NGLNM0400Q0: Invalid RIC\n",
      "NGLNM0400Q0: Invalid RIC | \n"
     ]
    },
    {
     "name": "stdout",
     "output_type": "stream",
     "text": [
      "9\n"
     ]
    },
    {
     "name": "stderr",
     "output_type": "stream",
     "text": [
      "Error with NGLNM0450Q0: Invalid RIC\n",
      "NGLNM0450Q0: Invalid RIC | \n"
     ]
    },
    {
     "name": "stdout",
     "output_type": "stream",
     "text": [
      "10\n"
     ]
    },
    {
     "name": "stderr",
     "output_type": "stream",
     "text": [
      "Error with NGLNM0500Q0: Invalid RIC\n",
      "NGLNM0500Q0: Invalid RIC | \n"
     ]
    },
    {
     "name": "stdout",
     "output_type": "stream",
     "text": [
      "11\n"
     ]
    },
    {
     "name": "stderr",
     "output_type": "stream",
     "text": [
      "Error with NGLNM0550Q0: Invalid RIC\n",
      "NGLNM0550Q0: Invalid RIC | \n"
     ]
    },
    {
     "name": "stdout",
     "output_type": "stream",
     "text": [
      "12\n"
     ]
    },
    {
     "name": "stderr",
     "output_type": "stream",
     "text": [
      "Error with NGLNM0600Q0: Invalid RIC\n",
      "NGLNM0600Q0: Invalid RIC | \n"
     ]
    },
    {
     "name": "stdout",
     "output_type": "stream",
     "text": [
      "13\n"
     ]
    },
    {
     "name": "stderr",
     "output_type": "stream",
     "text": [
      "Error with NGLNM0650Q0: Invalid RIC\n",
      "NGLNM0650Q0: Invalid RIC | \n"
     ]
    },
    {
     "name": "stdout",
     "output_type": "stream",
     "text": [
      "14\n"
     ]
    },
    {
     "name": "stderr",
     "output_type": "stream",
     "text": [
      "Error with NGLNM0700Q0: Invalid RIC\n",
      "NGLNM0700Q0: Invalid RIC | \n"
     ]
    },
    {
     "name": "stdout",
     "output_type": "stream",
     "text": [
      "15\n"
     ]
    },
    {
     "name": "stderr",
     "output_type": "stream",
     "text": [
      "Error with NGLNM0750Q0: Invalid RIC\n",
      "NGLNM0750Q0: Invalid RIC | \n"
     ]
    },
    {
     "name": "stdout",
     "output_type": "stream",
     "text": [
      "16\n"
     ]
    },
    {
     "name": "stderr",
     "output_type": "stream",
     "text": [
      "Error with NGLNM0800Q0: Invalid RIC\n",
      "NGLNM0800Q0: Invalid RIC | \n"
     ]
    },
    {
     "name": "stdout",
     "output_type": "stream",
     "text": [
      "17\n"
     ]
    },
    {
     "name": "stderr",
     "output_type": "stream",
     "text": [
      "Error with NGLNM0850Q0: Invalid RIC\n",
      "NGLNM0850Q0: Invalid RIC | \n"
     ]
    },
    {
     "name": "stdout",
     "output_type": "stream",
     "text": [
      "18\n"
     ]
    },
    {
     "name": "stderr",
     "output_type": "stream",
     "text": [
      "Error with NGLNM0900Q0: Invalid RIC\n",
      "NGLNM0900Q0: Invalid RIC | \n"
     ]
    },
    {
     "name": "stdout",
     "output_type": "stream",
     "text": [
      "19\n"
     ]
    },
    {
     "name": "stderr",
     "output_type": "stream",
     "text": [
      "Error with NGLNM0950Q0: Invalid RIC\n",
      "NGLNM0950Q0: Invalid RIC | \n"
     ]
    },
    {
     "name": "stdout",
     "output_type": "stream",
     "text": [
      "20\n"
     ]
    },
    {
     "name": "stderr",
     "output_type": "stream",
     "text": [
      "Error with NGLNM1000Q0: Invalid RIC\n",
      "NGLNM1000Q0: Invalid RIC | \n"
     ]
    },
    {
     "name": "stdout",
     "output_type": "stream",
     "text": [
      "21\n"
     ]
    },
    {
     "name": "stderr",
     "output_type": "stream",
     "text": [
      "Error with NGLNM1050Q0: Invalid RIC\n",
      "NGLNM1050Q0: Invalid RIC | \n"
     ]
    },
    {
     "name": "stdout",
     "output_type": "stream",
     "text": [
      "22\n"
     ]
    },
    {
     "name": "stderr",
     "output_type": "stream",
     "text": [
      "Error with NGLNM1100Q0: Invalid RIC\n",
      "NGLNM1100Q0: Invalid RIC | \n"
     ]
    },
    {
     "name": "stdout",
     "output_type": "stream",
     "text": [
      "23\n"
     ]
    },
    {
     "name": "stderr",
     "output_type": "stream",
     "text": [
      "Error with NGLNM1150Q0: Invalid RIC\n",
      "NGLNM1150Q0: Invalid RIC | \n"
     ]
    },
    {
     "name": "stdout",
     "output_type": "stream",
     "text": [
      "24\n"
     ]
    },
    {
     "name": "stderr",
     "output_type": "stream",
     "text": [
      "Error with NGLNM1200Q0: Invalid RIC\n",
      "NGLNM1200Q0: Invalid RIC | \n"
     ]
    },
    {
     "name": "stdout",
     "output_type": "stream",
     "text": [
      "25\n"
     ]
    },
    {
     "name": "stderr",
     "output_type": "stream",
     "text": [
      "Error with NGLNM1250Q0: Invalid RIC\n",
      "NGLNM1250Q0: Invalid RIC | \n"
     ]
    },
    {
     "name": "stdout",
     "output_type": "stream",
     "text": [
      "26\n"
     ]
    },
    {
     "name": "stderr",
     "output_type": "stream",
     "text": [
      "Error with NGLNM1300Q0: Invalid RIC\n",
      "NGLNM1300Q0: Invalid RIC | \n"
     ]
    },
    {
     "name": "stdout",
     "output_type": "stream",
     "text": [
      "27\n"
     ]
    },
    {
     "name": "stderr",
     "output_type": "stream",
     "text": [
      "Error with NGLNM1350Q0: Invalid RIC\n",
      "NGLNM1350Q0: Invalid RIC | \n"
     ]
    },
    {
     "name": "stdout",
     "output_type": "stream",
     "text": [
      "28\n"
     ]
    },
    {
     "name": "stderr",
     "output_type": "stream",
     "text": [
      "Error with NGLNM1400Q0: Invalid RIC\n",
      "NGLNM1400Q0: Invalid RIC | \n"
     ]
    },
    {
     "name": "stdout",
     "output_type": "stream",
     "text": [
      "29\n"
     ]
    },
    {
     "name": "stderr",
     "output_type": "stream",
     "text": [
      "Error with NGLNM1450Q0: Invalid RIC\n",
      "NGLNM1450Q0: Invalid RIC | \n"
     ]
    },
    {
     "name": "stdout",
     "output_type": "stream",
     "text": [
      "30\n"
     ]
    },
    {
     "name": "stderr",
     "output_type": "stream",
     "text": [
      "Error with NGLNM1500Q0: Invalid RIC\n",
      "NGLNM1500Q0: Invalid RIC | \n"
     ]
    },
    {
     "name": "stdout",
     "output_type": "stream",
     "text": [
      "31\n"
     ]
    },
    {
     "name": "stderr",
     "output_type": "stream",
     "text": [
      "Error with NGLNM1550Q0: Invalid RIC\n",
      "NGLNM1550Q0: Invalid RIC | \n"
     ]
    },
    {
     "name": "stdout",
     "output_type": "stream",
     "text": [
      "32\n"
     ]
    },
    {
     "name": "stderr",
     "output_type": "stream",
     "text": [
      "Error with NGLNM1600Q0: Invalid RIC\n",
      "NGLNM1600Q0: Invalid RIC | \n"
     ]
    },
    {
     "name": "stdout",
     "output_type": "stream",
     "text": [
      "33\n"
     ]
    },
    {
     "name": "stderr",
     "output_type": "stream",
     "text": [
      "Error with NGLNM1650Q0: Invalid RIC\n",
      "NGLNM1650Q0: Invalid RIC | \n"
     ]
    },
    {
     "name": "stdout",
     "output_type": "stream",
     "text": [
      "34\n"
     ]
    },
    {
     "name": "stderr",
     "output_type": "stream",
     "text": [
      "Error with NGLNM1700Q0: Invalid RIC\n",
      "NGLNM1700Q0: Invalid RIC | \n"
     ]
    },
    {
     "name": "stdout",
     "output_type": "stream",
     "text": [
      "35\n"
     ]
    },
    {
     "name": "stderr",
     "output_type": "stream",
     "text": [
      "Error with NGLNM1750Q0: Invalid RIC\n",
      "NGLNM1750Q0: Invalid RIC | \n"
     ]
    },
    {
     "name": "stdout",
     "output_type": "stream",
     "text": [
      "36\n"
     ]
    },
    {
     "name": "stderr",
     "output_type": "stream",
     "text": [
      "Error with NGLNM1800Q0: Invalid RIC\n",
      "NGLNM1800Q0: Invalid RIC | \n"
     ]
    },
    {
     "name": "stdout",
     "output_type": "stream",
     "text": [
      "37\n"
     ]
    },
    {
     "name": "stderr",
     "output_type": "stream",
     "text": [
      "Error with NGLNM1850Q0: Invalid RIC\n",
      "NGLNM1850Q0: Invalid RIC | \n"
     ]
    },
    {
     "name": "stdout",
     "output_type": "stream",
     "text": [
      "38\n"
     ]
    },
    {
     "name": "stderr",
     "output_type": "stream",
     "text": [
      "Error with NGLNM1900Q0: Invalid RIC\n",
      "NGLNM1900Q0: Invalid RIC | \n"
     ]
    },
    {
     "name": "stdout",
     "output_type": "stream",
     "text": [
      "39\n"
     ]
    },
    {
     "name": "stderr",
     "output_type": "stream",
     "text": [
      "Error with NGLNM1950Q0: Invalid RIC\n",
      "NGLNM1950Q0: Invalid RIC | \n"
     ]
    },
    {
     "name": "stdout",
     "output_type": "stream",
     "text": [
      "40\n"
     ]
    },
    {
     "name": "stderr",
     "output_type": "stream",
     "text": [
      "Error with NGLNM2000Q0: Invalid RIC\n",
      "NGLNM2000Q0: Invalid RIC | \n"
     ]
    },
    {
     "name": "stdout",
     "output_type": "stream",
     "text": [
      "41\n"
     ]
    },
    {
     "name": "stderr",
     "output_type": "stream",
     "text": [
      "Error with NGLNM2050Q0: Invalid RIC\n",
      "NGLNM2050Q0: Invalid RIC | \n"
     ]
    },
    {
     "name": "stdout",
     "output_type": "stream",
     "text": [
      "42\n"
     ]
    },
    {
     "name": "stderr",
     "output_type": "stream",
     "text": [
      "Error with NGLNM2100Q0: Invalid RIC\n",
      "NGLNM2100Q0: Invalid RIC | \n"
     ]
    },
    {
     "name": "stdout",
     "output_type": "stream",
     "text": [
      "43\n"
     ]
    },
    {
     "name": "stderr",
     "output_type": "stream",
     "text": [
      "Error with NGLNM2150Q0: Invalid RIC\n",
      "NGLNM2150Q0: Invalid RIC | \n"
     ]
    },
    {
     "name": "stdout",
     "output_type": "stream",
     "text": [
      "44\n"
     ]
    },
    {
     "name": "stderr",
     "output_type": "stream",
     "text": [
      "Error with NGLNM2200Q0: Invalid RIC\n",
      "NGLNM2200Q0: Invalid RIC | \n"
     ]
    },
    {
     "name": "stdout",
     "output_type": "stream",
     "text": [
      "45\n"
     ]
    },
    {
     "name": "stderr",
     "output_type": "stream",
     "text": [
      "Error with NGLNM2250Q0: Invalid RIC\n",
      "NGLNM2250Q0: Invalid RIC | \n"
     ]
    },
    {
     "name": "stdout",
     "output_type": "stream",
     "text": [
      "46\n"
     ]
    },
    {
     "name": "stderr",
     "output_type": "stream",
     "text": [
      "Error with NGLNM2300Q0: Invalid RIC\n",
      "NGLNM2300Q0: Invalid RIC | \n"
     ]
    },
    {
     "name": "stdout",
     "output_type": "stream",
     "text": [
      "47\n"
     ]
    },
    {
     "name": "stderr",
     "output_type": "stream",
     "text": [
      "Error with NGLNM2350Q0: Invalid RIC\n",
      "NGLNM2350Q0: Invalid RIC | \n"
     ]
    },
    {
     "name": "stdout",
     "output_type": "stream",
     "text": [
      "48\n"
     ]
    },
    {
     "name": "stderr",
     "output_type": "stream",
     "text": [
      "Error with NGLNM2400Q0: Invalid RIC\n",
      "NGLNM2400Q0: Invalid RIC | \n"
     ]
    },
    {
     "name": "stdout",
     "output_type": "stream",
     "text": [
      "49\n"
     ]
    },
    {
     "name": "stderr",
     "output_type": "stream",
     "text": [
      "Error with NGLNM2450Q0: Invalid RIC\n",
      "NGLNM2450Q0: Invalid RIC | \n"
     ]
    },
    {
     "name": "stdout",
     "output_type": "stream",
     "text": [
      "50\n"
     ]
    },
    {
     "name": "stderr",
     "output_type": "stream",
     "text": [
      "Error with NGLNM2500Q0: Invalid RIC\n",
      "NGLNM2500Q0: Invalid RIC | \n"
     ]
    },
    {
     "name": "stdout",
     "output_type": "stream",
     "text": [
      "51\n"
     ]
    },
    {
     "name": "stderr",
     "output_type": "stream",
     "text": [
      "Error with NGLNM2550Q0: Invalid RIC\n",
      "NGLNM2550Q0: Invalid RIC | \n"
     ]
    },
    {
     "name": "stdout",
     "output_type": "stream",
     "text": [
      "52\n"
     ]
    },
    {
     "name": "stderr",
     "output_type": "stream",
     "text": [
      "Error with NGLNM2600Q0: Invalid RIC\n",
      "NGLNM2600Q0: Invalid RIC | \n"
     ]
    },
    {
     "name": "stdout",
     "output_type": "stream",
     "text": [
      "53\n"
     ]
    },
    {
     "name": "stderr",
     "output_type": "stream",
     "text": [
      "Error with NGLNM2650Q0: Invalid RIC\n",
      "NGLNM2650Q0: Invalid RIC | \n"
     ]
    },
    {
     "name": "stdout",
     "output_type": "stream",
     "text": [
      "54\n"
     ]
    },
    {
     "name": "stderr",
     "output_type": "stream",
     "text": [
      "Error with NGLNM2700Q0: Invalid RIC\n",
      "NGLNM2700Q0: Invalid RIC | \n"
     ]
    },
    {
     "name": "stdout",
     "output_type": "stream",
     "text": [
      "55\n"
     ]
    },
    {
     "name": "stderr",
     "output_type": "stream",
     "text": [
      "Error with NGLNM2750Q0: Invalid RIC\n",
      "NGLNM2750Q0: Invalid RIC | \n"
     ]
    },
    {
     "name": "stdout",
     "output_type": "stream",
     "text": [
      "56\n"
     ]
    },
    {
     "name": "stderr",
     "output_type": "stream",
     "text": [
      "Error with NGLNM2800Q0: Invalid RIC\n",
      "NGLNM2800Q0: Invalid RIC | \n"
     ]
    },
    {
     "name": "stdout",
     "output_type": "stream",
     "text": [
      "57\n"
     ]
    },
    {
     "name": "stderr",
     "output_type": "stream",
     "text": [
      "Error with NGLNM2850Q0: Invalid RIC\n",
      "NGLNM2850Q0: Invalid RIC | \n"
     ]
    },
    {
     "name": "stdout",
     "output_type": "stream",
     "text": [
      "58\n"
     ]
    },
    {
     "name": "stderr",
     "output_type": "stream",
     "text": [
      "Error with NGLNM2900Q0: Invalid RIC\n",
      "NGLNM2900Q0: Invalid RIC | \n"
     ]
    },
    {
     "name": "stdout",
     "output_type": "stream",
     "text": [
      "59\n"
     ]
    },
    {
     "name": "stderr",
     "output_type": "stream",
     "text": [
      "Error with NGLNM2950Q0: Invalid RIC\n",
      "NGLNM2950Q0: Invalid RIC | \n"
     ]
    },
    {
     "name": "stdout",
     "output_type": "stream",
     "text": [
      "60\n"
     ]
    },
    {
     "name": "stderr",
     "output_type": "stream",
     "text": [
      "Error with NGLNM3000Q0: Invalid RIC\n",
      "NGLNM3000Q0: Invalid RIC | \n"
     ]
    },
    {
     "name": "stdout",
     "output_type": "stream",
     "text": [
      "61\n"
     ]
    },
    {
     "name": "stderr",
     "output_type": "stream",
     "text": [
      "Error with NGLNM3050Q0: Invalid RIC\n",
      "NGLNM3050Q0: Invalid RIC | \n"
     ]
    },
    {
     "name": "stdout",
     "output_type": "stream",
     "text": [
      "62\n"
     ]
    },
    {
     "name": "stderr",
     "output_type": "stream",
     "text": [
      "Error with NGLNM3100Q0: Invalid RIC\n",
      "NGLNM3100Q0: Invalid RIC | \n"
     ]
    },
    {
     "name": "stdout",
     "output_type": "stream",
     "text": [
      "63\n"
     ]
    },
    {
     "name": "stderr",
     "output_type": "stream",
     "text": [
      "Error with NGLNM3150Q0: Invalid RIC\n",
      "NGLNM3150Q0: Invalid RIC | \n"
     ]
    },
    {
     "name": "stdout",
     "output_type": "stream",
     "text": [
      "64\n",
      "DataFrame is empty!\n",
      "65\n",
      "DataFrame is empty!\n",
      "66\n",
      "DataFrame is empty!\n",
      "67\n",
      "DataFrame is empty!\n",
      "68\n",
      "DataFrame is empty!\n",
      "69\n",
      "DataFrame is empty!\n",
      "70\n",
      "71\n",
      "DataFrame is empty!\n",
      "72\n",
      "DataFrame is empty!\n",
      "73\n",
      "DataFrame is empty!\n",
      "74\n",
      "DataFrame is empty!\n",
      "75\n",
      "DataFrame is empty!\n",
      "76\n",
      "DataFrame is empty!\n",
      "77\n",
      "DataFrame is empty!\n",
      "78\n",
      "DataFrame is empty!\n",
      "79\n",
      "DataFrame is empty!\n",
      "80\n",
      "DataFrame is empty!\n",
      "81\n",
      "DataFrame is empty!\n",
      "82\n",
      "DataFrame is empty!\n",
      "83\n",
      "DataFrame is empty!\n",
      "84\n",
      "DataFrame is empty!\n",
      "85\n",
      "DataFrame is empty!\n",
      "86\n",
      "DataFrame is empty!\n",
      "87\n",
      "DataFrame is empty!\n",
      "88\n",
      "DataFrame is empty!\n",
      "89\n",
      "DataFrame is empty!\n",
      "90\n",
      "DataFrame is empty!\n",
      "91\n",
      "DataFrame is empty!\n",
      "92\n",
      "DataFrame is empty!\n",
      "93\n",
      "DataFrame is empty!\n",
      "94\n",
      "DataFrame is empty!\n",
      "95\n",
      "DataFrame is empty!\n",
      "96\n",
      "DataFrame is empty!\n",
      "97\n",
      "DataFrame is empty!\n",
      "98\n",
      "DataFrame is empty!\n",
      "99\n",
      "DataFrame is empty!\n",
      "100\n",
      "DataFrame is empty!\n",
      "101\n",
      "DataFrame is empty!\n",
      "102\n",
      "DataFrame is empty!\n",
      "103\n",
      "DataFrame is empty!\n",
      "104\n",
      "DataFrame is empty!\n",
      "105\n",
      "DataFrame is empty!\n",
      "106\n",
      "DataFrame is empty!\n",
      "107\n",
      "DataFrame is empty!\n",
      "108\n",
      "DataFrame is empty!\n",
      "109\n",
      "DataFrame is empty!\n",
      "110\n",
      "DataFrame is empty!\n",
      "111\n",
      "DataFrame is empty!\n",
      "112\n",
      "DataFrame is empty!\n",
      "113\n",
      "DataFrame is empty!\n",
      "114\n",
      "DataFrame is empty!\n",
      "115\n",
      "DataFrame is empty!\n",
      "116\n",
      "DataFrame is empty!\n",
      "117\n",
      "DataFrame is empty!\n",
      "118\n",
      "DataFrame is empty!\n",
      "119\n",
      "DataFrame is empty!\n",
      "120\n",
      "DataFrame is empty!\n",
      "121\n",
      "DataFrame is empty!\n",
      "122\n",
      "DataFrame is empty!\n",
      "123\n",
      "DataFrame is empty!\n",
      "124\n",
      "DataFrame is empty!\n",
      "125\n",
      "DataFrame is empty!\n",
      "126\n",
      "DataFrame is empty!\n",
      "127\n",
      "DataFrame is empty!\n",
      "128\n",
      "DataFrame is empty!\n",
      "129\n",
      "DataFrame is empty!\n",
      "130\n",
      "DataFrame is empty!\n",
      "131\n",
      "DataFrame is empty!\n",
      "132\n",
      "DataFrame is empty!\n",
      "133\n",
      "DataFrame is empty!\n",
      "134\n",
      "DataFrame is empty!\n",
      "135\n",
      "DataFrame is empty!\n",
      "136\n",
      "DataFrame is empty!\n",
      "137\n",
      "DataFrame is empty!\n",
      "138\n",
      "DataFrame is empty!\n",
      "139\n"
     ]
    },
    {
     "name": "stderr",
     "output_type": "stream",
     "text": [
      "Error with NGLNM6950Q0: Invalid RIC\n",
      "NGLNM6950Q0: Invalid RIC | \n"
     ]
    },
    {
     "name": "stdout",
     "output_type": "stream",
     "text": [
      "140\n"
     ]
    },
    {
     "name": "stderr",
     "output_type": "stream",
     "text": [
      "Error with NGLNM7000Q0: Invalid RIC\n",
      "NGLNM7000Q0: Invalid RIC | \n"
     ]
    },
    {
     "name": "stdout",
     "output_type": "stream",
     "text": [
      "141\n"
     ]
    },
    {
     "name": "stderr",
     "output_type": "stream",
     "text": [
      "Error with NGLNM7050Q0: Invalid RIC\n",
      "NGLNM7050Q0: Invalid RIC | \n"
     ]
    },
    {
     "name": "stdout",
     "output_type": "stream",
     "text": [
      "142\n"
     ]
    },
    {
     "name": "stderr",
     "output_type": "stream",
     "text": [
      "Error with NGLNM7100Q0: Invalid RIC\n",
      "NGLNM7100Q0: Invalid RIC | \n"
     ]
    },
    {
     "name": "stdout",
     "output_type": "stream",
     "text": [
      "143\n"
     ]
    },
    {
     "name": "stderr",
     "output_type": "stream",
     "text": [
      "Error with NGLNM7150Q0: Invalid RIC\n",
      "NGLNM7150Q0: Invalid RIC | \n"
     ]
    },
    {
     "name": "stdout",
     "output_type": "stream",
     "text": [
      "144\n"
     ]
    },
    {
     "name": "stderr",
     "output_type": "stream",
     "text": [
      "Error with NGLNM7200Q0: Invalid RIC\n",
      "NGLNM7200Q0: Invalid RIC | \n"
     ]
    },
    {
     "name": "stdout",
     "output_type": "stream",
     "text": [
      "145\n"
     ]
    },
    {
     "name": "stderr",
     "output_type": "stream",
     "text": [
      "Error with NGLNM7250Q0: Invalid RIC\n",
      "NGLNM7250Q0: Invalid RIC | \n"
     ]
    },
    {
     "name": "stdout",
     "output_type": "stream",
     "text": [
      "146\n"
     ]
    },
    {
     "name": "stderr",
     "output_type": "stream",
     "text": [
      "Error with NGLNM7300Q0: Invalid RIC\n",
      "NGLNM7300Q0: Invalid RIC | \n"
     ]
    },
    {
     "name": "stdout",
     "output_type": "stream",
     "text": [
      "147\n"
     ]
    },
    {
     "name": "stderr",
     "output_type": "stream",
     "text": [
      "Error with NGLNM7350Q0: Invalid RIC\n",
      "NGLNM7350Q0: Invalid RIC | \n"
     ]
    },
    {
     "name": "stdout",
     "output_type": "stream",
     "text": [
      "148\n"
     ]
    },
    {
     "name": "stderr",
     "output_type": "stream",
     "text": [
      "Error with NGLNM7400Q0: Invalid RIC\n",
      "NGLNM7400Q0: Invalid RIC | \n"
     ]
    },
    {
     "name": "stdout",
     "output_type": "stream",
     "text": [
      "149\n"
     ]
    },
    {
     "name": "stderr",
     "output_type": "stream",
     "text": [
      "Error with NGLNM7450Q0: Invalid RIC\n",
      "NGLNM7450Q0: Invalid RIC | \n"
     ]
    },
    {
     "name": "stdout",
     "output_type": "stream",
     "text": [
      "150\n"
     ]
    },
    {
     "name": "stderr",
     "output_type": "stream",
     "text": [
      "Error with NGLNM7500Q0: Invalid RIC\n",
      "NGLNM7500Q0: Invalid RIC | \n"
     ]
    },
    {
     "name": "stdout",
     "output_type": "stream",
     "text": [
      "151\n"
     ]
    },
    {
     "name": "stderr",
     "output_type": "stream",
     "text": [
      "Error with NGLNM7550Q0: Invalid RIC\n",
      "NGLNM7550Q0: Invalid RIC | \n"
     ]
    },
    {
     "name": "stdout",
     "output_type": "stream",
     "text": [
      "152\n"
     ]
    },
    {
     "name": "stderr",
     "output_type": "stream",
     "text": [
      "Error with NGLNM7600Q0: Invalid RIC\n",
      "NGLNM7600Q0: Invalid RIC | \n"
     ]
    },
    {
     "name": "stdout",
     "output_type": "stream",
     "text": [
      "153\n"
     ]
    },
    {
     "name": "stderr",
     "output_type": "stream",
     "text": [
      "Error with NGLNM7650Q0: Invalid RIC\n",
      "NGLNM7650Q0: Invalid RIC | \n"
     ]
    },
    {
     "name": "stdout",
     "output_type": "stream",
     "text": [
      "154\n"
     ]
    },
    {
     "name": "stderr",
     "output_type": "stream",
     "text": [
      "Error with NGLNM7700Q0: Invalid RIC\n",
      "NGLNM7700Q0: Invalid RIC | \n"
     ]
    },
    {
     "name": "stdout",
     "output_type": "stream",
     "text": [
      "155\n"
     ]
    },
    {
     "name": "stderr",
     "output_type": "stream",
     "text": [
      "Error with NGLNM7750Q0: Invalid RIC\n",
      "NGLNM7750Q0: Invalid RIC | \n"
     ]
    },
    {
     "name": "stdout",
     "output_type": "stream",
     "text": [
      "156\n"
     ]
    },
    {
     "name": "stderr",
     "output_type": "stream",
     "text": [
      "Error with NGLNM7800Q0: Invalid RIC\n",
      "NGLNM7800Q0: Invalid RIC | \n"
     ]
    },
    {
     "name": "stdout",
     "output_type": "stream",
     "text": [
      "157\n"
     ]
    },
    {
     "name": "stderr",
     "output_type": "stream",
     "text": [
      "Error with NGLNM7850Q0: Invalid RIC\n",
      "NGLNM7850Q0: Invalid RIC | \n"
     ]
    },
    {
     "name": "stdout",
     "output_type": "stream",
     "text": [
      "158\n"
     ]
    },
    {
     "name": "stderr",
     "output_type": "stream",
     "text": [
      "Error with NGLNM7900Q0: Invalid RIC\n",
      "NGLNM7900Q0: Invalid RIC | \n"
     ]
    },
    {
     "name": "stdout",
     "output_type": "stream",
     "text": [
      "159\n"
     ]
    },
    {
     "name": "stderr",
     "output_type": "stream",
     "text": [
      "Error with NGLNM7950Q0: Invalid RIC\n",
      "NGLNM7950Q0: Invalid RIC | \n"
     ]
    },
    {
     "name": "stdout",
     "output_type": "stream",
     "text": [
      "160\n"
     ]
    },
    {
     "name": "stderr",
     "output_type": "stream",
     "text": [
      "Error with NGLNM8000Q0: Invalid RIC\n",
      "NGLNM8000Q0: Invalid RIC | \n"
     ]
    },
    {
     "name": "stdout",
     "output_type": "stream",
     "text": [
      "161\n"
     ]
    },
    {
     "name": "stderr",
     "output_type": "stream",
     "text": [
      "Error with NGLNM8050Q0: Invalid RIC\n",
      "NGLNM8050Q0: Invalid RIC | \n"
     ]
    },
    {
     "name": "stdout",
     "output_type": "stream",
     "text": [
      "162\n"
     ]
    },
    {
     "name": "stderr",
     "output_type": "stream",
     "text": [
      "Error with NGLNM8100Q0: Invalid RIC\n",
      "NGLNM8100Q0: Invalid RIC | \n"
     ]
    },
    {
     "name": "stdout",
     "output_type": "stream",
     "text": [
      "163\n"
     ]
    },
    {
     "name": "stderr",
     "output_type": "stream",
     "text": [
      "Error with NGLNM8150Q0: Invalid RIC\n",
      "NGLNM8150Q0: Invalid RIC | \n"
     ]
    },
    {
     "name": "stdout",
     "output_type": "stream",
     "text": [
      "164\n"
     ]
    },
    {
     "name": "stderr",
     "output_type": "stream",
     "text": [
      "Error with NGLNM8200Q0: Invalid RIC\n",
      "NGLNM8200Q0: Invalid RIC | \n"
     ]
    },
    {
     "name": "stdout",
     "output_type": "stream",
     "text": [
      "165\n"
     ]
    },
    {
     "name": "stderr",
     "output_type": "stream",
     "text": [
      "Error with NGLNM8250Q0: Invalid RIC\n",
      "NGLNM8250Q0: Invalid RIC | \n"
     ]
    },
    {
     "name": "stdout",
     "output_type": "stream",
     "text": [
      "166\n"
     ]
    },
    {
     "name": "stderr",
     "output_type": "stream",
     "text": [
      "Error with NGLNM8300Q0: Invalid RIC\n",
      "NGLNM8300Q0: Invalid RIC | \n"
     ]
    },
    {
     "name": "stdout",
     "output_type": "stream",
     "text": [
      "167\n"
     ]
    },
    {
     "name": "stderr",
     "output_type": "stream",
     "text": [
      "Error with NGLNM8350Q0: Invalid RIC\n",
      "NGLNM8350Q0: Invalid RIC | \n"
     ]
    },
    {
     "name": "stdout",
     "output_type": "stream",
     "text": [
      "168\n"
     ]
    },
    {
     "name": "stderr",
     "output_type": "stream",
     "text": [
      "Error with NGLNM8400Q0: Invalid RIC\n",
      "NGLNM8400Q0: Invalid RIC | \n"
     ]
    },
    {
     "name": "stdout",
     "output_type": "stream",
     "text": [
      "169\n"
     ]
    },
    {
     "name": "stderr",
     "output_type": "stream",
     "text": [
      "Error with NGLNM8450Q0: Invalid RIC\n",
      "NGLNM8450Q0: Invalid RIC | \n"
     ]
    },
    {
     "name": "stdout",
     "output_type": "stream",
     "text": [
      "170\n"
     ]
    },
    {
     "name": "stderr",
     "output_type": "stream",
     "text": [
      "Error with NGLNM8500Q0: Invalid RIC\n",
      "NGLNM8500Q0: Invalid RIC | \n"
     ]
    },
    {
     "name": "stdout",
     "output_type": "stream",
     "text": [
      "171\n"
     ]
    },
    {
     "name": "stderr",
     "output_type": "stream",
     "text": [
      "Error with NGLNM8550Q0: Invalid RIC\n",
      "NGLNM8550Q0: Invalid RIC | \n"
     ]
    },
    {
     "name": "stdout",
     "output_type": "stream",
     "text": [
      "172\n"
     ]
    },
    {
     "name": "stderr",
     "output_type": "stream",
     "text": [
      "Error with NGLNM8600Q0: Invalid RIC\n",
      "NGLNM8600Q0: Invalid RIC | \n"
     ]
    },
    {
     "name": "stdout",
     "output_type": "stream",
     "text": [
      "173\n"
     ]
    },
    {
     "name": "stderr",
     "output_type": "stream",
     "text": [
      "Error with NGLNM8650Q0: Invalid RIC\n",
      "NGLNM8650Q0: Invalid RIC | \n"
     ]
    },
    {
     "name": "stdout",
     "output_type": "stream",
     "text": [
      "174\n"
     ]
    },
    {
     "name": "stderr",
     "output_type": "stream",
     "text": [
      "Error with NGLNM8700Q0: Invalid RIC\n",
      "NGLNM8700Q0: Invalid RIC | \n"
     ]
    },
    {
     "name": "stdout",
     "output_type": "stream",
     "text": [
      "175\n"
     ]
    },
    {
     "name": "stderr",
     "output_type": "stream",
     "text": [
      "Error with NGLNM8750Q0: Invalid RIC\n",
      "NGLNM8750Q0: Invalid RIC | \n"
     ]
    },
    {
     "name": "stdout",
     "output_type": "stream",
     "text": [
      "176\n"
     ]
    },
    {
     "name": "stderr",
     "output_type": "stream",
     "text": [
      "Error with NGLNM8800Q0: Invalid RIC\n",
      "NGLNM8800Q0: Invalid RIC | \n"
     ]
    },
    {
     "name": "stdout",
     "output_type": "stream",
     "text": [
      "177\n"
     ]
    },
    {
     "name": "stderr",
     "output_type": "stream",
     "text": [
      "Error with NGLNM8850Q0: Invalid RIC\n",
      "NGLNM8850Q0: Invalid RIC | \n"
     ]
    },
    {
     "name": "stdout",
     "output_type": "stream",
     "text": [
      "178\n"
     ]
    },
    {
     "name": "stderr",
     "output_type": "stream",
     "text": [
      "Error with NGLNM8900Q0: Invalid RIC\n",
      "NGLNM8900Q0: Invalid RIC | \n"
     ]
    },
    {
     "name": "stdout",
     "output_type": "stream",
     "text": [
      "179\n"
     ]
    },
    {
     "name": "stderr",
     "output_type": "stream",
     "text": [
      "Error with NGLNM8950Q0: Invalid RIC\n",
      "NGLNM8950Q0: Invalid RIC | \n"
     ]
    },
    {
     "name": "stdout",
     "output_type": "stream",
     "text": [
      "180\n"
     ]
    },
    {
     "name": "stderr",
     "output_type": "stream",
     "text": [
      "Error with NGLNM9000Q0: Invalid RIC\n",
      "NGLNM9000Q0: Invalid RIC | \n"
     ]
    },
    {
     "name": "stdout",
     "output_type": "stream",
     "text": [
      "181\n"
     ]
    },
    {
     "name": "stderr",
     "output_type": "stream",
     "text": [
      "Error with NGLNM9050Q0: Invalid RIC\n",
      "NGLNM9050Q0: Invalid RIC | \n"
     ]
    },
    {
     "name": "stdout",
     "output_type": "stream",
     "text": [
      "182\n"
     ]
    },
    {
     "name": "stderr",
     "output_type": "stream",
     "text": [
      "Error with NGLNM9100Q0: Invalid RIC\n",
      "NGLNM9100Q0: Invalid RIC | \n"
     ]
    },
    {
     "name": "stdout",
     "output_type": "stream",
     "text": [
      "183\n"
     ]
    },
    {
     "name": "stderr",
     "output_type": "stream",
     "text": [
      "Error with NGLNM9150Q0: Invalid RIC\n",
      "NGLNM9150Q0: Invalid RIC | \n"
     ]
    },
    {
     "name": "stdout",
     "output_type": "stream",
     "text": [
      "184\n"
     ]
    },
    {
     "name": "stderr",
     "output_type": "stream",
     "text": [
      "Error with NGLNM9200Q0: Invalid RIC\n",
      "NGLNM9200Q0: Invalid RIC | \n"
     ]
    },
    {
     "name": "stdout",
     "output_type": "stream",
     "text": [
      "185\n"
     ]
    },
    {
     "name": "stderr",
     "output_type": "stream",
     "text": [
      "Error with NGLNM9250Q0: Invalid RIC\n",
      "NGLNM9250Q0: Invalid RIC | \n"
     ]
    },
    {
     "name": "stdout",
     "output_type": "stream",
     "text": [
      "186\n"
     ]
    },
    {
     "name": "stderr",
     "output_type": "stream",
     "text": [
      "Error with NGLNM9300Q0: Invalid RIC\n",
      "NGLNM9300Q0: Invalid RIC | \n"
     ]
    },
    {
     "name": "stdout",
     "output_type": "stream",
     "text": [
      "187\n"
     ]
    },
    {
     "name": "stderr",
     "output_type": "stream",
     "text": [
      "Error with NGLNM9350Q0: Invalid RIC\n",
      "NGLNM9350Q0: Invalid RIC | \n"
     ]
    },
    {
     "name": "stdout",
     "output_type": "stream",
     "text": [
      "188\n"
     ]
    },
    {
     "name": "stderr",
     "output_type": "stream",
     "text": [
      "Error with NGLNM9400Q0: Invalid RIC\n",
      "NGLNM9400Q0: Invalid RIC | \n"
     ]
    },
    {
     "name": "stdout",
     "output_type": "stream",
     "text": [
      "189\n"
     ]
    },
    {
     "name": "stderr",
     "output_type": "stream",
     "text": [
      "Error with NGLNM9450Q0: Invalid RIC\n",
      "NGLNM9450Q0: Invalid RIC | \n"
     ]
    },
    {
     "name": "stdout",
     "output_type": "stream",
     "text": [
      "190\n"
     ]
    },
    {
     "name": "stderr",
     "output_type": "stream",
     "text": [
      "Error with NGLNM9500Q0: Invalid RIC\n",
      "NGLNM9500Q0: Invalid RIC | \n"
     ]
    },
    {
     "name": "stdout",
     "output_type": "stream",
     "text": [
      "191\n"
     ]
    },
    {
     "name": "stderr",
     "output_type": "stream",
     "text": [
      "Error with NGLNM9550Q0: Invalid RIC\n",
      "NGLNM9550Q0: Invalid RIC | \n"
     ]
    },
    {
     "name": "stdout",
     "output_type": "stream",
     "text": [
      "192\n"
     ]
    },
    {
     "name": "stderr",
     "output_type": "stream",
     "text": [
      "Error with NGLNM9600Q0: Invalid RIC\n",
      "NGLNM9600Q0: Invalid RIC | \n"
     ]
    },
    {
     "name": "stdout",
     "output_type": "stream",
     "text": [
      "193\n"
     ]
    },
    {
     "name": "stderr",
     "output_type": "stream",
     "text": [
      "Error with NGLNM9650Q0: Invalid RIC\n",
      "NGLNM9650Q0: Invalid RIC | \n"
     ]
    },
    {
     "name": "stdout",
     "output_type": "stream",
     "text": [
      "194\n"
     ]
    },
    {
     "name": "stderr",
     "output_type": "stream",
     "text": [
      "Error with NGLNM9700Q0: Invalid RIC\n",
      "NGLNM9700Q0: Invalid RIC | \n"
     ]
    },
    {
     "name": "stdout",
     "output_type": "stream",
     "text": [
      "195\n"
     ]
    },
    {
     "name": "stderr",
     "output_type": "stream",
     "text": [
      "Error with NGLNM9750Q0: Invalid RIC\n",
      "NGLNM9750Q0: Invalid RIC | \n"
     ]
    },
    {
     "name": "stdout",
     "output_type": "stream",
     "text": [
      "196\n"
     ]
    },
    {
     "name": "stderr",
     "output_type": "stream",
     "text": [
      "Error with NGLNM9800Q0: Invalid RIC\n",
      "NGLNM9800Q0: Invalid RIC | \n"
     ]
    },
    {
     "name": "stdout",
     "output_type": "stream",
     "text": [
      "197\n"
     ]
    },
    {
     "name": "stderr",
     "output_type": "stream",
     "text": [
      "Error with NGLNM9850Q0: Invalid RIC\n",
      "NGLNM9850Q0: Invalid RIC | \n"
     ]
    },
    {
     "name": "stdout",
     "output_type": "stream",
     "text": [
      "198\n"
     ]
    },
    {
     "name": "stderr",
     "output_type": "stream",
     "text": [
      "Error with NGLNM9900Q0: Invalid RIC\n",
      "NGLNM9900Q0: Invalid RIC | \n"
     ]
    },
    {
     "name": "stdout",
     "output_type": "stream",
     "text": [
      "199\n"
     ]
    },
    {
     "name": "stderr",
     "output_type": "stream",
     "text": [
      "Error with NGLNM9950Q0: Invalid RIC\n",
      "NGLNM9950Q0: Invalid RIC | \n"
     ]
    },
    {
     "name": "stdout",
     "output_type": "stream",
     "text": [
      "0\n"
     ]
    },
    {
     "name": "stderr",
     "output_type": "stream",
     "text": [
      "Error with NGLNM0000E0: Invalid RIC\n",
      "NGLNM0000E0: Invalid RIC | \n"
     ]
    },
    {
     "name": "stdout",
     "output_type": "stream",
     "text": [
      "1\n"
     ]
    },
    {
     "name": "stderr",
     "output_type": "stream",
     "text": [
      "Error with NGLNM0050E0: Invalid RIC\n",
      "NGLNM0050E0: Invalid RIC | \n"
     ]
    },
    {
     "name": "stdout",
     "output_type": "stream",
     "text": [
      "2\n"
     ]
    },
    {
     "name": "stderr",
     "output_type": "stream",
     "text": [
      "Error with NGLNM0100E0: Invalid RIC\n",
      "NGLNM0100E0: Invalid RIC | \n"
     ]
    },
    {
     "name": "stdout",
     "output_type": "stream",
     "text": [
      "3\n"
     ]
    },
    {
     "name": "stderr",
     "output_type": "stream",
     "text": [
      "Error with NGLNM0150E0: Invalid RIC\n",
      "NGLNM0150E0: Invalid RIC | \n"
     ]
    },
    {
     "name": "stdout",
     "output_type": "stream",
     "text": [
      "4\n"
     ]
    },
    {
     "name": "stderr",
     "output_type": "stream",
     "text": [
      "Error with NGLNM0200E0: Invalid RIC\n",
      "NGLNM0200E0: Invalid RIC | \n"
     ]
    },
    {
     "name": "stdout",
     "output_type": "stream",
     "text": [
      "5\n"
     ]
    },
    {
     "name": "stderr",
     "output_type": "stream",
     "text": [
      "Error with NGLNM0250E0: Invalid RIC\n",
      "NGLNM0250E0: Invalid RIC | \n"
     ]
    },
    {
     "name": "stdout",
     "output_type": "stream",
     "text": [
      "6\n"
     ]
    },
    {
     "name": "stderr",
     "output_type": "stream",
     "text": [
      "Error with NGLNM0300E0: Invalid RIC\n",
      "NGLNM0300E0: Invalid RIC | \n"
     ]
    },
    {
     "name": "stdout",
     "output_type": "stream",
     "text": [
      "7\n"
     ]
    },
    {
     "name": "stderr",
     "output_type": "stream",
     "text": [
      "Error with NGLNM0350E0: Invalid RIC\n",
      "NGLNM0350E0: Invalid RIC | \n"
     ]
    },
    {
     "name": "stdout",
     "output_type": "stream",
     "text": [
      "8\n"
     ]
    },
    {
     "name": "stderr",
     "output_type": "stream",
     "text": [
      "Error with NGLNM0400E0: Invalid RIC\n",
      "NGLNM0400E0: Invalid RIC | \n"
     ]
    },
    {
     "name": "stdout",
     "output_type": "stream",
     "text": [
      "9\n"
     ]
    },
    {
     "name": "stderr",
     "output_type": "stream",
     "text": [
      "Error with NGLNM0450E0: Invalid RIC\n",
      "NGLNM0450E0: Invalid RIC | \n"
     ]
    },
    {
     "name": "stdout",
     "output_type": "stream",
     "text": [
      "10\n"
     ]
    },
    {
     "name": "stderr",
     "output_type": "stream",
     "text": [
      "Error with NGLNM0500E0: Invalid RIC\n",
      "NGLNM0500E0: Invalid RIC | \n"
     ]
    },
    {
     "name": "stdout",
     "output_type": "stream",
     "text": [
      "11\n"
     ]
    },
    {
     "name": "stderr",
     "output_type": "stream",
     "text": [
      "Error with NGLNM0550E0: Invalid RIC\n",
      "NGLNM0550E0: Invalid RIC | \n"
     ]
    },
    {
     "name": "stdout",
     "output_type": "stream",
     "text": [
      "12\n"
     ]
    },
    {
     "name": "stderr",
     "output_type": "stream",
     "text": [
      "Error with NGLNM0600E0: Invalid RIC\n",
      "NGLNM0600E0: Invalid RIC | \n"
     ]
    },
    {
     "name": "stdout",
     "output_type": "stream",
     "text": [
      "13\n"
     ]
    },
    {
     "name": "stderr",
     "output_type": "stream",
     "text": [
      "Error with NGLNM0650E0: Invalid RIC\n",
      "NGLNM0650E0: Invalid RIC | \n"
     ]
    },
    {
     "name": "stdout",
     "output_type": "stream",
     "text": [
      "14\n"
     ]
    },
    {
     "name": "stderr",
     "output_type": "stream",
     "text": [
      "Error with NGLNM0700E0: Invalid RIC\n",
      "NGLNM0700E0: Invalid RIC | \n"
     ]
    },
    {
     "name": "stdout",
     "output_type": "stream",
     "text": [
      "15\n"
     ]
    },
    {
     "name": "stderr",
     "output_type": "stream",
     "text": [
      "Error with NGLNM0750E0: Invalid RIC\n",
      "NGLNM0750E0: Invalid RIC | \n"
     ]
    },
    {
     "name": "stdout",
     "output_type": "stream",
     "text": [
      "16\n"
     ]
    },
    {
     "name": "stderr",
     "output_type": "stream",
     "text": [
      "Error with NGLNM0800E0: Invalid RIC\n",
      "NGLNM0800E0: Invalid RIC | \n"
     ]
    },
    {
     "name": "stdout",
     "output_type": "stream",
     "text": [
      "17\n"
     ]
    },
    {
     "name": "stderr",
     "output_type": "stream",
     "text": [
      "Error with NGLNM0850E0: Invalid RIC\n",
      "NGLNM0850E0: Invalid RIC | \n"
     ]
    },
    {
     "name": "stdout",
     "output_type": "stream",
     "text": [
      "18\n"
     ]
    },
    {
     "name": "stderr",
     "output_type": "stream",
     "text": [
      "Error with NGLNM0900E0: Invalid RIC\n",
      "NGLNM0900E0: Invalid RIC | \n"
     ]
    },
    {
     "name": "stdout",
     "output_type": "stream",
     "text": [
      "19\n"
     ]
    },
    {
     "name": "stderr",
     "output_type": "stream",
     "text": [
      "Error with NGLNM0950E0: Invalid RIC\n",
      "NGLNM0950E0: Invalid RIC | \n"
     ]
    },
    {
     "name": "stdout",
     "output_type": "stream",
     "text": [
      "20\n"
     ]
    },
    {
     "name": "stderr",
     "output_type": "stream",
     "text": [
      "Error with NGLNM1000E0: Invalid RIC\n",
      "NGLNM1000E0: Invalid RIC | \n"
     ]
    },
    {
     "name": "stdout",
     "output_type": "stream",
     "text": [
      "21\n"
     ]
    },
    {
     "name": "stderr",
     "output_type": "stream",
     "text": [
      "Error with NGLNM1050E0: Invalid RIC\n",
      "NGLNM1050E0: Invalid RIC | \n"
     ]
    },
    {
     "name": "stdout",
     "output_type": "stream",
     "text": [
      "22\n"
     ]
    },
    {
     "name": "stderr",
     "output_type": "stream",
     "text": [
      "Error with NGLNM1100E0: Invalid RIC\n",
      "NGLNM1100E0: Invalid RIC | \n"
     ]
    },
    {
     "name": "stdout",
     "output_type": "stream",
     "text": [
      "23\n"
     ]
    },
    {
     "name": "stderr",
     "output_type": "stream",
     "text": [
      "Error with NGLNM1150E0: Invalid RIC\n",
      "NGLNM1150E0: Invalid RIC | \n"
     ]
    },
    {
     "name": "stdout",
     "output_type": "stream",
     "text": [
      "24\n"
     ]
    },
    {
     "name": "stderr",
     "output_type": "stream",
     "text": [
      "Error with NGLNM1200E0: Invalid RIC\n",
      "NGLNM1200E0: Invalid RIC | \n"
     ]
    },
    {
     "name": "stdout",
     "output_type": "stream",
     "text": [
      "25\n"
     ]
    },
    {
     "name": "stderr",
     "output_type": "stream",
     "text": [
      "Error with NGLNM1250E0: Invalid RIC\n",
      "NGLNM1250E0: Invalid RIC | \n"
     ]
    },
    {
     "name": "stdout",
     "output_type": "stream",
     "text": [
      "26\n"
     ]
    },
    {
     "name": "stderr",
     "output_type": "stream",
     "text": [
      "Error with NGLNM1300E0: Invalid RIC\n",
      "NGLNM1300E0: Invalid RIC | \n"
     ]
    },
    {
     "name": "stdout",
     "output_type": "stream",
     "text": [
      "27\n"
     ]
    },
    {
     "name": "stderr",
     "output_type": "stream",
     "text": [
      "Error with NGLNM1350E0: Invalid RIC\n",
      "NGLNM1350E0: Invalid RIC | \n"
     ]
    },
    {
     "name": "stdout",
     "output_type": "stream",
     "text": [
      "28\n"
     ]
    },
    {
     "name": "stderr",
     "output_type": "stream",
     "text": [
      "Error with NGLNM1400E0: Invalid RIC\n",
      "NGLNM1400E0: Invalid RIC | \n"
     ]
    },
    {
     "name": "stdout",
     "output_type": "stream",
     "text": [
      "29\n"
     ]
    },
    {
     "name": "stderr",
     "output_type": "stream",
     "text": [
      "Error with NGLNM1450E0: Invalid RIC\n",
      "NGLNM1450E0: Invalid RIC | \n"
     ]
    },
    {
     "name": "stdout",
     "output_type": "stream",
     "text": [
      "30\n"
     ]
    },
    {
     "name": "stderr",
     "output_type": "stream",
     "text": [
      "Error with NGLNM1500E0: Invalid RIC\n",
      "NGLNM1500E0: Invalid RIC | \n"
     ]
    },
    {
     "name": "stdout",
     "output_type": "stream",
     "text": [
      "31\n"
     ]
    },
    {
     "name": "stderr",
     "output_type": "stream",
     "text": [
      "Error with NGLNM1550E0: Invalid RIC\n",
      "NGLNM1550E0: Invalid RIC | \n"
     ]
    },
    {
     "name": "stdout",
     "output_type": "stream",
     "text": [
      "32\n"
     ]
    },
    {
     "name": "stderr",
     "output_type": "stream",
     "text": [
      "Error with NGLNM1600E0: Invalid RIC\n",
      "NGLNM1600E0: Invalid RIC | \n"
     ]
    },
    {
     "name": "stdout",
     "output_type": "stream",
     "text": [
      "33\n"
     ]
    },
    {
     "name": "stderr",
     "output_type": "stream",
     "text": [
      "Error with NGLNM1650E0: Invalid RIC\n",
      "NGLNM1650E0: Invalid RIC | \n"
     ]
    },
    {
     "name": "stdout",
     "output_type": "stream",
     "text": [
      "34\n"
     ]
    },
    {
     "name": "stderr",
     "output_type": "stream",
     "text": [
      "Error with NGLNM1700E0: Invalid RIC\n",
      "NGLNM1700E0: Invalid RIC | \n"
     ]
    },
    {
     "name": "stdout",
     "output_type": "stream",
     "text": [
      "35\n"
     ]
    },
    {
     "name": "stderr",
     "output_type": "stream",
     "text": [
      "Error with NGLNM1750E0: Invalid RIC\n",
      "NGLNM1750E0: Invalid RIC | \n"
     ]
    },
    {
     "name": "stdout",
     "output_type": "stream",
     "text": [
      "36\n"
     ]
    },
    {
     "name": "stderr",
     "output_type": "stream",
     "text": [
      "Error with NGLNM1800E0: Invalid RIC\n",
      "NGLNM1800E0: Invalid RIC | \n"
     ]
    },
    {
     "name": "stdout",
     "output_type": "stream",
     "text": [
      "37\n"
     ]
    },
    {
     "name": "stderr",
     "output_type": "stream",
     "text": [
      "Error with NGLNM1850E0: Invalid RIC\n",
      "NGLNM1850E0: Invalid RIC | \n"
     ]
    },
    {
     "name": "stdout",
     "output_type": "stream",
     "text": [
      "38\n"
     ]
    },
    {
     "name": "stderr",
     "output_type": "stream",
     "text": [
      "Error with NGLNM1900E0: Invalid RIC\n",
      "NGLNM1900E0: Invalid RIC | \n"
     ]
    },
    {
     "name": "stdout",
     "output_type": "stream",
     "text": [
      "39\n"
     ]
    },
    {
     "name": "stderr",
     "output_type": "stream",
     "text": [
      "Error with NGLNM1950E0: Invalid RIC\n",
      "NGLNM1950E0: Invalid RIC | \n"
     ]
    },
    {
     "name": "stdout",
     "output_type": "stream",
     "text": [
      "40\n"
     ]
    },
    {
     "name": "stderr",
     "output_type": "stream",
     "text": [
      "Error with NGLNM2000E0: Invalid RIC\n",
      "NGLNM2000E0: Invalid RIC | \n"
     ]
    },
    {
     "name": "stdout",
     "output_type": "stream",
     "text": [
      "41\n"
     ]
    },
    {
     "name": "stderr",
     "output_type": "stream",
     "text": [
      "Error with NGLNM2050E0: Invalid RIC\n",
      "NGLNM2050E0: Invalid RIC | \n"
     ]
    },
    {
     "name": "stdout",
     "output_type": "stream",
     "text": [
      "42\n"
     ]
    },
    {
     "name": "stderr",
     "output_type": "stream",
     "text": [
      "Error with NGLNM2100E0: Invalid RIC\n",
      "NGLNM2100E0: Invalid RIC | \n"
     ]
    },
    {
     "name": "stdout",
     "output_type": "stream",
     "text": [
      "43\n"
     ]
    },
    {
     "name": "stderr",
     "output_type": "stream",
     "text": [
      "Error with NGLNM2150E0: Invalid RIC\n",
      "NGLNM2150E0: Invalid RIC | \n"
     ]
    },
    {
     "name": "stdout",
     "output_type": "stream",
     "text": [
      "44\n"
     ]
    },
    {
     "name": "stderr",
     "output_type": "stream",
     "text": [
      "Error with NGLNM2200E0: Invalid RIC\n",
      "NGLNM2200E0: Invalid RIC | \n"
     ]
    },
    {
     "name": "stdout",
     "output_type": "stream",
     "text": [
      "45\n"
     ]
    },
    {
     "name": "stderr",
     "output_type": "stream",
     "text": [
      "Error with NGLNM2250E0: Invalid RIC\n",
      "NGLNM2250E0: Invalid RIC | \n"
     ]
    },
    {
     "name": "stdout",
     "output_type": "stream",
     "text": [
      "46\n"
     ]
    },
    {
     "name": "stderr",
     "output_type": "stream",
     "text": [
      "Error with NGLNM2300E0: Invalid RIC\n",
      "NGLNM2300E0: Invalid RIC | \n"
     ]
    },
    {
     "name": "stdout",
     "output_type": "stream",
     "text": [
      "47\n"
     ]
    },
    {
     "name": "stderr",
     "output_type": "stream",
     "text": [
      "Error with NGLNM2350E0: Invalid RIC\n",
      "NGLNM2350E0: Invalid RIC | \n"
     ]
    },
    {
     "name": "stdout",
     "output_type": "stream",
     "text": [
      "48\n"
     ]
    },
    {
     "name": "stderr",
     "output_type": "stream",
     "text": [
      "Error with NGLNM2400E0: Invalid RIC\n",
      "NGLNM2400E0: Invalid RIC | \n"
     ]
    },
    {
     "name": "stdout",
     "output_type": "stream",
     "text": [
      "49\n"
     ]
    },
    {
     "name": "stderr",
     "output_type": "stream",
     "text": [
      "Error with NGLNM2450E0: Invalid RIC\n",
      "NGLNM2450E0: Invalid RIC | \n"
     ]
    },
    {
     "name": "stdout",
     "output_type": "stream",
     "text": [
      "50\n"
     ]
    },
    {
     "name": "stderr",
     "output_type": "stream",
     "text": [
      "Error with NGLNM2500E0: Invalid RIC\n",
      "NGLNM2500E0: Invalid RIC | \n"
     ]
    },
    {
     "name": "stdout",
     "output_type": "stream",
     "text": [
      "51\n"
     ]
    },
    {
     "name": "stderr",
     "output_type": "stream",
     "text": [
      "Error with NGLNM2550E0: Invalid RIC\n",
      "NGLNM2550E0: Invalid RIC | \n"
     ]
    },
    {
     "name": "stdout",
     "output_type": "stream",
     "text": [
      "52\n"
     ]
    },
    {
     "name": "stderr",
     "output_type": "stream",
     "text": [
      "Error with NGLNM2600E0: Invalid RIC\n",
      "NGLNM2600E0: Invalid RIC | \n"
     ]
    },
    {
     "name": "stdout",
     "output_type": "stream",
     "text": [
      "53\n"
     ]
    },
    {
     "name": "stderr",
     "output_type": "stream",
     "text": [
      "Error with NGLNM2650E0: Invalid RIC\n",
      "NGLNM2650E0: Invalid RIC | \n"
     ]
    },
    {
     "name": "stdout",
     "output_type": "stream",
     "text": [
      "54\n"
     ]
    },
    {
     "name": "stderr",
     "output_type": "stream",
     "text": [
      "Error with NGLNM2700E0: Invalid RIC\n",
      "NGLNM2700E0: Invalid RIC | \n"
     ]
    },
    {
     "name": "stdout",
     "output_type": "stream",
     "text": [
      "55\n"
     ]
    },
    {
     "name": "stderr",
     "output_type": "stream",
     "text": [
      "Error with NGLNM2750E0: Invalid RIC\n",
      "NGLNM2750E0: Invalid RIC | \n"
     ]
    },
    {
     "name": "stdout",
     "output_type": "stream",
     "text": [
      "56\n"
     ]
    },
    {
     "name": "stderr",
     "output_type": "stream",
     "text": [
      "Error with NGLNM2800E0: Invalid RIC\n",
      "NGLNM2800E0: Invalid RIC | \n"
     ]
    },
    {
     "name": "stdout",
     "output_type": "stream",
     "text": [
      "57\n"
     ]
    },
    {
     "name": "stderr",
     "output_type": "stream",
     "text": [
      "Error with NGLNM2850E0: Invalid RIC\n",
      "NGLNM2850E0: Invalid RIC | \n"
     ]
    },
    {
     "name": "stdout",
     "output_type": "stream",
     "text": [
      "58\n"
     ]
    },
    {
     "name": "stderr",
     "output_type": "stream",
     "text": [
      "Error with NGLNM2900E0: Invalid RIC\n",
      "NGLNM2900E0: Invalid RIC | \n"
     ]
    },
    {
     "name": "stdout",
     "output_type": "stream",
     "text": [
      "59\n"
     ]
    },
    {
     "name": "stderr",
     "output_type": "stream",
     "text": [
      "Error with NGLNM2950E0: Invalid RIC\n",
      "NGLNM2950E0: Invalid RIC | \n"
     ]
    },
    {
     "name": "stdout",
     "output_type": "stream",
     "text": [
      "60\n"
     ]
    },
    {
     "name": "stderr",
     "output_type": "stream",
     "text": [
      "Error with NGLNM3000E0: Invalid RIC\n",
      "NGLNM3000E0: Invalid RIC | \n"
     ]
    },
    {
     "name": "stdout",
     "output_type": "stream",
     "text": [
      "61\n"
     ]
    },
    {
     "name": "stderr",
     "output_type": "stream",
     "text": [
      "Error with NGLNM3050E0: Invalid RIC\n",
      "NGLNM3050E0: Invalid RIC | \n"
     ]
    },
    {
     "name": "stdout",
     "output_type": "stream",
     "text": [
      "62\n"
     ]
    },
    {
     "name": "stderr",
     "output_type": "stream",
     "text": [
      "Error with NGLNM3100E0: Invalid RIC\n",
      "NGLNM3100E0: Invalid RIC | \n"
     ]
    },
    {
     "name": "stdout",
     "output_type": "stream",
     "text": [
      "63\n"
     ]
    },
    {
     "name": "stderr",
     "output_type": "stream",
     "text": [
      "Error with NGLNM3150E0: Invalid RIC\n",
      "NGLNM3150E0: Invalid RIC | \n"
     ]
    },
    {
     "name": "stdout",
     "output_type": "stream",
     "text": [
      "64\n",
      "DataFrame is empty!\n",
      "65\n",
      "DataFrame is empty!\n",
      "66\n",
      "DataFrame is empty!\n",
      "67\n",
      "DataFrame is empty!\n",
      "68\n",
      "DataFrame is empty!\n",
      "69\n",
      "DataFrame is empty!\n",
      "70\n",
      "DataFrame is empty!\n",
      "71\n",
      "DataFrame is empty!\n",
      "72\n",
      "DataFrame is empty!\n",
      "73\n",
      "DataFrame is empty!\n",
      "74\n",
      "DataFrame is empty!\n",
      "75\n",
      "DataFrame is empty!\n",
      "76\n",
      "DataFrame is empty!\n",
      "77\n",
      "DataFrame is empty!\n",
      "78\n",
      "DataFrame is empty!\n",
      "79\n",
      "DataFrame is empty!\n",
      "80\n",
      "DataFrame is empty!\n",
      "81\n",
      "DataFrame is empty!\n",
      "82\n",
      "DataFrame is empty!\n",
      "83\n",
      "DataFrame is empty!\n",
      "84\n",
      "DataFrame is empty!\n",
      "85\n",
      "DataFrame is empty!\n",
      "86\n",
      "DataFrame is empty!\n",
      "87\n",
      "DataFrame is empty!\n",
      "88\n",
      "DataFrame is empty!\n",
      "89\n",
      "DataFrame is empty!\n",
      "90\n",
      "DataFrame is empty!\n",
      "91\n",
      "DataFrame is empty!\n",
      "92\n",
      "DataFrame is empty!\n",
      "93\n",
      "DataFrame is empty!\n",
      "94\n",
      "DataFrame is empty!\n",
      "95\n",
      "DataFrame is empty!\n",
      "96\n",
      "DataFrame is empty!\n",
      "97\n",
      "DataFrame is empty!\n",
      "98\n",
      "DataFrame is empty!\n",
      "99\n",
      "DataFrame is empty!\n",
      "100\n",
      "DataFrame is empty!\n",
      "101\n",
      "DataFrame is empty!\n",
      "102\n",
      "DataFrame is empty!\n",
      "103\n",
      "DataFrame is empty!\n",
      "104\n",
      "DataFrame is empty!\n",
      "105\n",
      "DataFrame is empty!\n",
      "106\n",
      "DataFrame is empty!\n",
      "107\n",
      "DataFrame is empty!\n",
      "108\n",
      "DataFrame is empty!\n",
      "109\n",
      "DataFrame is empty!\n",
      "110\n",
      "DataFrame is empty!\n",
      "111\n",
      "DataFrame is empty!\n",
      "112\n",
      "DataFrame is empty!\n",
      "113\n",
      "DataFrame is empty!\n",
      "114\n",
      "DataFrame is empty!\n",
      "115\n",
      "DataFrame is empty!\n",
      "116\n",
      "DataFrame is empty!\n",
      "117\n",
      "DataFrame is empty!\n",
      "118\n",
      "DataFrame is empty!\n",
      "119\n",
      "DataFrame is empty!\n",
      "120\n",
      "DataFrame is empty!\n",
      "121\n",
      "DataFrame is empty!\n",
      "122\n",
      "DataFrame is empty!\n",
      "123\n",
      "DataFrame is empty!\n",
      "124\n",
      "DataFrame is empty!\n",
      "125\n",
      "DataFrame is empty!\n",
      "126\n",
      "DataFrame is empty!\n",
      "127\n",
      "DataFrame is empty!\n",
      "128\n",
      "DataFrame is empty!\n",
      "129\n",
      "DataFrame is empty!\n",
      "130\n",
      "DataFrame is empty!\n",
      "131\n",
      "DataFrame is empty!\n",
      "132\n",
      "DataFrame is empty!\n",
      "133\n",
      "DataFrame is empty!\n",
      "134\n",
      "DataFrame is empty!\n",
      "135\n",
      "DataFrame is empty!\n",
      "136\n",
      "DataFrame is empty!\n",
      "137\n",
      "DataFrame is empty!\n",
      "138\n",
      "DataFrame is empty!\n",
      "139\n"
     ]
    },
    {
     "name": "stderr",
     "output_type": "stream",
     "text": [
      "Error with NGLNM6950E0: Invalid RIC\n",
      "NGLNM6950E0: Invalid RIC | \n"
     ]
    },
    {
     "name": "stdout",
     "output_type": "stream",
     "text": [
      "140\n"
     ]
    },
    {
     "name": "stderr",
     "output_type": "stream",
     "text": [
      "Error with NGLNM7000E0: Invalid RIC\n",
      "NGLNM7000E0: Invalid RIC | \n"
     ]
    },
    {
     "name": "stdout",
     "output_type": "stream",
     "text": [
      "141\n"
     ]
    },
    {
     "name": "stderr",
     "output_type": "stream",
     "text": [
      "Error with NGLNM7050E0: Invalid RIC\n",
      "NGLNM7050E0: Invalid RIC | \n"
     ]
    },
    {
     "name": "stdout",
     "output_type": "stream",
     "text": [
      "142\n"
     ]
    },
    {
     "name": "stderr",
     "output_type": "stream",
     "text": [
      "Error with NGLNM7100E0: Invalid RIC\n",
      "NGLNM7100E0: Invalid RIC | \n"
     ]
    },
    {
     "name": "stdout",
     "output_type": "stream",
     "text": [
      "143\n"
     ]
    },
    {
     "name": "stderr",
     "output_type": "stream",
     "text": [
      "Error with NGLNM7150E0: Invalid RIC\n",
      "NGLNM7150E0: Invalid RIC | \n"
     ]
    },
    {
     "name": "stdout",
     "output_type": "stream",
     "text": [
      "144\n"
     ]
    },
    {
     "name": "stderr",
     "output_type": "stream",
     "text": [
      "Error with NGLNM7200E0: Invalid RIC\n",
      "NGLNM7200E0: Invalid RIC | \n"
     ]
    },
    {
     "name": "stdout",
     "output_type": "stream",
     "text": [
      "145\n"
     ]
    },
    {
     "name": "stderr",
     "output_type": "stream",
     "text": [
      "Error with NGLNM7250E0: Invalid RIC\n",
      "NGLNM7250E0: Invalid RIC | \n"
     ]
    },
    {
     "name": "stdout",
     "output_type": "stream",
     "text": [
      "146\n"
     ]
    },
    {
     "name": "stderr",
     "output_type": "stream",
     "text": [
      "Error with NGLNM7300E0: Invalid RIC\n",
      "NGLNM7300E0: Invalid RIC | \n"
     ]
    },
    {
     "name": "stdout",
     "output_type": "stream",
     "text": [
      "147\n"
     ]
    },
    {
     "name": "stderr",
     "output_type": "stream",
     "text": [
      "Error with NGLNM7350E0: Invalid RIC\n",
      "NGLNM7350E0: Invalid RIC | \n"
     ]
    },
    {
     "name": "stdout",
     "output_type": "stream",
     "text": [
      "148\n"
     ]
    },
    {
     "name": "stderr",
     "output_type": "stream",
     "text": [
      "Error with NGLNM7400E0: Invalid RIC\n",
      "NGLNM7400E0: Invalid RIC | \n"
     ]
    },
    {
     "name": "stdout",
     "output_type": "stream",
     "text": [
      "149\n"
     ]
    },
    {
     "name": "stderr",
     "output_type": "stream",
     "text": [
      "Error with NGLNM7450E0: Invalid RIC\n",
      "NGLNM7450E0: Invalid RIC | \n"
     ]
    },
    {
     "name": "stdout",
     "output_type": "stream",
     "text": [
      "150\n"
     ]
    },
    {
     "name": "stderr",
     "output_type": "stream",
     "text": [
      "Error with NGLNM7500E0: Invalid RIC\n",
      "NGLNM7500E0: Invalid RIC | \n"
     ]
    },
    {
     "name": "stdout",
     "output_type": "stream",
     "text": [
      "151\n"
     ]
    },
    {
     "name": "stderr",
     "output_type": "stream",
     "text": [
      "Error with NGLNM7550E0: Invalid RIC\n",
      "NGLNM7550E0: Invalid RIC | \n"
     ]
    },
    {
     "name": "stdout",
     "output_type": "stream",
     "text": [
      "152\n"
     ]
    },
    {
     "name": "stderr",
     "output_type": "stream",
     "text": [
      "Error with NGLNM7600E0: Invalid RIC\n",
      "NGLNM7600E0: Invalid RIC | \n"
     ]
    },
    {
     "name": "stdout",
     "output_type": "stream",
     "text": [
      "153\n"
     ]
    },
    {
     "name": "stderr",
     "output_type": "stream",
     "text": [
      "Error with NGLNM7650E0: Invalid RIC\n",
      "NGLNM7650E0: Invalid RIC | \n"
     ]
    },
    {
     "name": "stdout",
     "output_type": "stream",
     "text": [
      "154\n"
     ]
    },
    {
     "name": "stderr",
     "output_type": "stream",
     "text": [
      "Error with NGLNM7700E0: Invalid RIC\n",
      "NGLNM7700E0: Invalid RIC | \n"
     ]
    },
    {
     "name": "stdout",
     "output_type": "stream",
     "text": [
      "155\n"
     ]
    },
    {
     "name": "stderr",
     "output_type": "stream",
     "text": [
      "Error with NGLNM7750E0: Invalid RIC\n",
      "NGLNM7750E0: Invalid RIC | \n"
     ]
    },
    {
     "name": "stdout",
     "output_type": "stream",
     "text": [
      "156\n"
     ]
    },
    {
     "name": "stderr",
     "output_type": "stream",
     "text": [
      "Error with NGLNM7800E0: Invalid RIC\n",
      "NGLNM7800E0: Invalid RIC | \n"
     ]
    },
    {
     "name": "stdout",
     "output_type": "stream",
     "text": [
      "157\n"
     ]
    },
    {
     "name": "stderr",
     "output_type": "stream",
     "text": [
      "Error with NGLNM7850E0: Invalid RIC\n",
      "NGLNM7850E0: Invalid RIC | \n"
     ]
    },
    {
     "name": "stdout",
     "output_type": "stream",
     "text": [
      "158\n"
     ]
    },
    {
     "name": "stderr",
     "output_type": "stream",
     "text": [
      "Error with NGLNM7900E0: Invalid RIC\n",
      "NGLNM7900E0: Invalid RIC | \n"
     ]
    },
    {
     "name": "stdout",
     "output_type": "stream",
     "text": [
      "159\n"
     ]
    },
    {
     "name": "stderr",
     "output_type": "stream",
     "text": [
      "Error with NGLNM7950E0: Invalid RIC\n",
      "NGLNM7950E0: Invalid RIC | \n"
     ]
    },
    {
     "name": "stdout",
     "output_type": "stream",
     "text": [
      "160\n"
     ]
    },
    {
     "name": "stderr",
     "output_type": "stream",
     "text": [
      "Error with NGLNM8000E0: Invalid RIC\n",
      "NGLNM8000E0: Invalid RIC | \n"
     ]
    },
    {
     "name": "stdout",
     "output_type": "stream",
     "text": [
      "161\n"
     ]
    },
    {
     "name": "stderr",
     "output_type": "stream",
     "text": [
      "Error with NGLNM8050E0: Invalid RIC\n",
      "NGLNM8050E0: Invalid RIC | \n"
     ]
    },
    {
     "name": "stdout",
     "output_type": "stream",
     "text": [
      "162\n"
     ]
    },
    {
     "name": "stderr",
     "output_type": "stream",
     "text": [
      "Error with NGLNM8100E0: Invalid RIC\n",
      "NGLNM8100E0: Invalid RIC | \n"
     ]
    },
    {
     "name": "stdout",
     "output_type": "stream",
     "text": [
      "163\n"
     ]
    },
    {
     "name": "stderr",
     "output_type": "stream",
     "text": [
      "Error with NGLNM8150E0: Invalid RIC\n",
      "NGLNM8150E0: Invalid RIC | \n"
     ]
    },
    {
     "name": "stdout",
     "output_type": "stream",
     "text": [
      "164\n"
     ]
    },
    {
     "name": "stderr",
     "output_type": "stream",
     "text": [
      "Error with NGLNM8200E0: Invalid RIC\n",
      "NGLNM8200E0: Invalid RIC | \n"
     ]
    },
    {
     "name": "stdout",
     "output_type": "stream",
     "text": [
      "165\n"
     ]
    },
    {
     "name": "stderr",
     "output_type": "stream",
     "text": [
      "Error with NGLNM8250E0: Invalid RIC\n",
      "NGLNM8250E0: Invalid RIC | \n"
     ]
    },
    {
     "name": "stdout",
     "output_type": "stream",
     "text": [
      "166\n"
     ]
    },
    {
     "name": "stderr",
     "output_type": "stream",
     "text": [
      "Error with NGLNM8300E0: Invalid RIC\n",
      "NGLNM8300E0: Invalid RIC | \n"
     ]
    },
    {
     "name": "stdout",
     "output_type": "stream",
     "text": [
      "167\n"
     ]
    },
    {
     "name": "stderr",
     "output_type": "stream",
     "text": [
      "Error with NGLNM8350E0: Invalid RIC\n",
      "NGLNM8350E0: Invalid RIC | \n"
     ]
    },
    {
     "name": "stdout",
     "output_type": "stream",
     "text": [
      "168\n"
     ]
    },
    {
     "name": "stderr",
     "output_type": "stream",
     "text": [
      "Error with NGLNM8400E0: Invalid RIC\n",
      "NGLNM8400E0: Invalid RIC | \n"
     ]
    },
    {
     "name": "stdout",
     "output_type": "stream",
     "text": [
      "169\n"
     ]
    },
    {
     "name": "stderr",
     "output_type": "stream",
     "text": [
      "Error with NGLNM8450E0: Invalid RIC\n",
      "NGLNM8450E0: Invalid RIC | \n"
     ]
    },
    {
     "name": "stdout",
     "output_type": "stream",
     "text": [
      "170\n"
     ]
    },
    {
     "name": "stderr",
     "output_type": "stream",
     "text": [
      "Error with NGLNM8500E0: Invalid RIC\n",
      "NGLNM8500E0: Invalid RIC | \n"
     ]
    },
    {
     "name": "stdout",
     "output_type": "stream",
     "text": [
      "171\n"
     ]
    },
    {
     "name": "stderr",
     "output_type": "stream",
     "text": [
      "Error with NGLNM8550E0: Invalid RIC\n",
      "NGLNM8550E0: Invalid RIC | \n"
     ]
    },
    {
     "name": "stdout",
     "output_type": "stream",
     "text": [
      "172\n"
     ]
    },
    {
     "name": "stderr",
     "output_type": "stream",
     "text": [
      "Error with NGLNM8600E0: Invalid RIC\n",
      "NGLNM8600E0: Invalid RIC | \n"
     ]
    },
    {
     "name": "stdout",
     "output_type": "stream",
     "text": [
      "173\n"
     ]
    },
    {
     "name": "stderr",
     "output_type": "stream",
     "text": [
      "Error with NGLNM8650E0: Invalid RIC\n",
      "NGLNM8650E0: Invalid RIC | \n"
     ]
    },
    {
     "name": "stdout",
     "output_type": "stream",
     "text": [
      "174\n"
     ]
    },
    {
     "name": "stderr",
     "output_type": "stream",
     "text": [
      "Error with NGLNM8700E0: Invalid RIC\n",
      "NGLNM8700E0: Invalid RIC | \n"
     ]
    },
    {
     "name": "stdout",
     "output_type": "stream",
     "text": [
      "175\n"
     ]
    },
    {
     "name": "stderr",
     "output_type": "stream",
     "text": [
      "Error with NGLNM8750E0: Invalid RIC\n",
      "NGLNM8750E0: Invalid RIC | \n"
     ]
    },
    {
     "name": "stdout",
     "output_type": "stream",
     "text": [
      "176\n"
     ]
    },
    {
     "name": "stderr",
     "output_type": "stream",
     "text": [
      "Error with NGLNM8800E0: Invalid RIC\n",
      "NGLNM8800E0: Invalid RIC | \n"
     ]
    },
    {
     "name": "stdout",
     "output_type": "stream",
     "text": [
      "177\n"
     ]
    },
    {
     "name": "stderr",
     "output_type": "stream",
     "text": [
      "Error with NGLNM8850E0: Invalid RIC\n",
      "NGLNM8850E0: Invalid RIC | \n"
     ]
    },
    {
     "name": "stdout",
     "output_type": "stream",
     "text": [
      "178\n"
     ]
    },
    {
     "name": "stderr",
     "output_type": "stream",
     "text": [
      "Error with NGLNM8900E0: Invalid RIC\n",
      "NGLNM8900E0: Invalid RIC | \n"
     ]
    },
    {
     "name": "stdout",
     "output_type": "stream",
     "text": [
      "179\n"
     ]
    },
    {
     "name": "stderr",
     "output_type": "stream",
     "text": [
      "Error with NGLNM8950E0: Invalid RIC\n",
      "NGLNM8950E0: Invalid RIC | \n"
     ]
    },
    {
     "name": "stdout",
     "output_type": "stream",
     "text": [
      "180\n"
     ]
    },
    {
     "name": "stderr",
     "output_type": "stream",
     "text": [
      "Error with NGLNM9000E0: Invalid RIC\n",
      "NGLNM9000E0: Invalid RIC | \n"
     ]
    },
    {
     "name": "stdout",
     "output_type": "stream",
     "text": [
      "181\n"
     ]
    },
    {
     "name": "stderr",
     "output_type": "stream",
     "text": [
      "Error with NGLNM9050E0: Invalid RIC\n",
      "NGLNM9050E0: Invalid RIC | \n"
     ]
    },
    {
     "name": "stdout",
     "output_type": "stream",
     "text": [
      "182\n"
     ]
    },
    {
     "name": "stderr",
     "output_type": "stream",
     "text": [
      "Error with NGLNM9100E0: Invalid RIC\n",
      "NGLNM9100E0: Invalid RIC | \n"
     ]
    },
    {
     "name": "stdout",
     "output_type": "stream",
     "text": [
      "183\n"
     ]
    },
    {
     "name": "stderr",
     "output_type": "stream",
     "text": [
      "Error with NGLNM9150E0: Invalid RIC\n",
      "NGLNM9150E0: Invalid RIC | \n"
     ]
    },
    {
     "name": "stdout",
     "output_type": "stream",
     "text": [
      "184\n"
     ]
    },
    {
     "name": "stderr",
     "output_type": "stream",
     "text": [
      "Error with NGLNM9200E0: Invalid RIC\n",
      "NGLNM9200E0: Invalid RIC | \n"
     ]
    },
    {
     "name": "stdout",
     "output_type": "stream",
     "text": [
      "185\n"
     ]
    },
    {
     "name": "stderr",
     "output_type": "stream",
     "text": [
      "Error with NGLNM9250E0: Invalid RIC\n",
      "NGLNM9250E0: Invalid RIC | \n"
     ]
    },
    {
     "name": "stdout",
     "output_type": "stream",
     "text": [
      "186\n"
     ]
    },
    {
     "name": "stderr",
     "output_type": "stream",
     "text": [
      "Error with NGLNM9300E0: Invalid RIC\n",
      "NGLNM9300E0: Invalid RIC | \n"
     ]
    },
    {
     "name": "stdout",
     "output_type": "stream",
     "text": [
      "187\n"
     ]
    },
    {
     "name": "stderr",
     "output_type": "stream",
     "text": [
      "Error with NGLNM9350E0: Invalid RIC\n",
      "NGLNM9350E0: Invalid RIC | \n"
     ]
    },
    {
     "name": "stdout",
     "output_type": "stream",
     "text": [
      "188\n"
     ]
    },
    {
     "name": "stderr",
     "output_type": "stream",
     "text": [
      "Error with NGLNM9400E0: Invalid RIC\n",
      "NGLNM9400E0: Invalid RIC | \n"
     ]
    },
    {
     "name": "stdout",
     "output_type": "stream",
     "text": [
      "189\n"
     ]
    },
    {
     "name": "stderr",
     "output_type": "stream",
     "text": [
      "Error with NGLNM9450E0: Invalid RIC\n",
      "NGLNM9450E0: Invalid RIC | \n"
     ]
    },
    {
     "name": "stdout",
     "output_type": "stream",
     "text": [
      "190\n"
     ]
    },
    {
     "name": "stderr",
     "output_type": "stream",
     "text": [
      "Error with NGLNM9500E0: Invalid RIC\n",
      "NGLNM9500E0: Invalid RIC | \n"
     ]
    },
    {
     "name": "stdout",
     "output_type": "stream",
     "text": [
      "191\n"
     ]
    },
    {
     "name": "stderr",
     "output_type": "stream",
     "text": [
      "Error with NGLNM9550E0: Invalid RIC\n",
      "NGLNM9550E0: Invalid RIC | \n"
     ]
    },
    {
     "name": "stdout",
     "output_type": "stream",
     "text": [
      "192\n"
     ]
    },
    {
     "name": "stderr",
     "output_type": "stream",
     "text": [
      "Error with NGLNM9600E0: Invalid RIC\n",
      "NGLNM9600E0: Invalid RIC | \n"
     ]
    },
    {
     "name": "stdout",
     "output_type": "stream",
     "text": [
      "193\n"
     ]
    },
    {
     "name": "stderr",
     "output_type": "stream",
     "text": [
      "Error with NGLNM9650E0: Invalid RIC\n",
      "NGLNM9650E0: Invalid RIC | \n"
     ]
    },
    {
     "name": "stdout",
     "output_type": "stream",
     "text": [
      "194\n"
     ]
    },
    {
     "name": "stderr",
     "output_type": "stream",
     "text": [
      "Error with NGLNM9700E0: Invalid RIC\n",
      "NGLNM9700E0: Invalid RIC | \n"
     ]
    },
    {
     "name": "stdout",
     "output_type": "stream",
     "text": [
      "195\n"
     ]
    },
    {
     "name": "stderr",
     "output_type": "stream",
     "text": [
      "Error with NGLNM9750E0: Invalid RIC\n",
      "NGLNM9750E0: Invalid RIC | \n"
     ]
    },
    {
     "name": "stdout",
     "output_type": "stream",
     "text": [
      "196\n"
     ]
    },
    {
     "name": "stderr",
     "output_type": "stream",
     "text": [
      "Error with NGLNM9800E0: Invalid RIC\n",
      "NGLNM9800E0: Invalid RIC | \n"
     ]
    },
    {
     "name": "stdout",
     "output_type": "stream",
     "text": [
      "197\n"
     ]
    },
    {
     "name": "stderr",
     "output_type": "stream",
     "text": [
      "Error with NGLNM9850E0: Invalid RIC\n",
      "NGLNM9850E0: Invalid RIC | \n"
     ]
    },
    {
     "name": "stdout",
     "output_type": "stream",
     "text": [
      "198\n"
     ]
    },
    {
     "name": "stderr",
     "output_type": "stream",
     "text": [
      "Error with NGLNM9900E0: Invalid RIC\n",
      "NGLNM9900E0: Invalid RIC | \n"
     ]
    },
    {
     "name": "stdout",
     "output_type": "stream",
     "text": [
      "199\n"
     ]
    },
    {
     "name": "stderr",
     "output_type": "stream",
     "text": [
      "Error with NGLNM9950E0: Invalid RIC\n",
      "NGLNM9950E0: Invalid RIC | \n"
     ]
    },
    {
     "ename": "NameError",
     "evalue": "name 'Main_DF_Puts' is not defined",
     "output_type": "error",
     "traceback": [
      "\u001b[1;31m---------------------------------------------------------------------------\u001b[0m",
      "\u001b[1;31mNameError\u001b[0m                                 Traceback (most recent call last)",
      "\u001b[1;32m<ipython-input-3-0be63fa555dc>\u001b[0m in \u001b[0;36m<module>\u001b[1;34m()\u001b[0m\n\u001b[0;32m     41\u001b[0m         \u001b[1;32mpass\u001b[0m\u001b[1;33m\u001b[0m\u001b[0m\n\u001b[0;32m     42\u001b[0m \u001b[1;31m# print(TTF.dropna(subset=['VOLUME']))\u001b[0m\u001b[1;33m\u001b[0m\u001b[1;33m\u001b[0m\u001b[0m\n\u001b[1;32m---> 43\u001b[1;33m \u001b[0mMain_DF_Puts\u001b[0m \u001b[1;33m=\u001b[0m \u001b[0mMain_DF_Puts\u001b[0m\u001b[1;33m.\u001b[0m\u001b[0msort_index\u001b[0m\u001b[1;33m(\u001b[0m\u001b[1;33m)\u001b[0m\u001b[1;33m\u001b[0m\u001b[0m\n\u001b[0m\u001b[0;32m     44\u001b[0m \u001b[0mMain_DF_Puts\u001b[0m\u001b[1;33m[\u001b[0m\u001b[1;34m'type'\u001b[0m\u001b[1;33m]\u001b[0m \u001b[1;33m=\u001b[0m \u001b[1;34m'PUT'\u001b[0m\u001b[1;33m\u001b[0m\u001b[0m\n\u001b[0;32m     45\u001b[0m \u001b[1;33m\u001b[0m\u001b[0m\n",
      "\u001b[1;31mNameError\u001b[0m: name 'Main_DF_Puts' is not defined"
     ]
    }
   ],
   "source": [
    "startdate='1000-01-20T15:04:05'\n",
    "current_date=time.strftime(\"%Y-%m-%d\")\n",
    "#download calls\n",
    "teller=0\n",
    "for ticker in tickers_calls:\n",
    "    print(tickers_calls.index(ticker))\n",
    "    try:\n",
    "        TTF=ek.get_timeseries(ticker,start_date=startdate,end_date=current_date)\n",
    "        TTF = TTF.dropna(subset=['VOLUME'])\n",
    "        if TTF.empty:\n",
    "            print('DataFrame is empty!')\n",
    "        else:\n",
    "            if teller == 0:\n",
    "                Main_DF_Calls = TTF\n",
    "                teller += 1               \n",
    "            else:\n",
    "                Main_DF_Calls=Main_DF_Calls.append(TTF)\n",
    "    except:\n",
    "        pass\n",
    "Main_DF_Calls = Main_DF_Calls.sort_index()\n",
    "Main_DF_Calls['type'] = 'CALL'\n",
    "\n",
    "\n",
    "#download puts\n",
    "teller=0\n",
    "for ticker in tickers_puts:\n",
    "    print(tickers_puts.index(ticker))\n",
    "    try:\n",
    "        TTF=ek.get_timeseries(ticker,start_date=startdate,end_date=current_date)\n",
    "        TTF = TTF.dropna(subset=['VOLUME'])\n",
    "        if TTF.empty:\n",
    "            print('DataFrame is empty!')\n",
    "        else:\n",
    "            if teller == 0:\n",
    "                Main_DF_Puts = TTF\n",
    "                teller += 1               \n",
    "            else:\n",
    "                Main_DF_Puts=Main_DF_Puts.append(TTF)\n",
    "            display(Main_DF_Puts)\n",
    "    except:\n",
    "        pass\n",
    "# print(TTF.dropna(subset=['VOLUME']))\n",
    "Main_DF_Puts = Main_DF_Puts.sort_index()\n",
    "Main_DF_Puts['type'] = 'PUT'\n",
    "\n",
    "Main_DF = Main_DF_Calls\n",
    "Main_DF = Main_DF.append(Main_DF_Puts)\n",
    "Main_DF = Main_DF.sort_index()"
   ]
  },
  {
   "cell_type": "code",
   "execution_count": 5,
   "metadata": {},
   "outputs": [
    {
     "data": {
      "text/html": [
       "<div>\n",
       "<style scoped>\n",
       "    .dataframe tbody tr th:only-of-type {\n",
       "        vertical-align: middle;\n",
       "    }\n",
       "\n",
       "    .dataframe tbody tr th {\n",
       "        vertical-align: top;\n",
       "    }\n",
       "\n",
       "    .dataframe thead th {\n",
       "        text-align: right;\n",
       "    }\n",
       "</style>\n",
       "<table border=\"1\" class=\"dataframe\">\n",
       "  <thead>\n",
       "    <tr style=\"text-align: right;\">\n",
       "      <th>NGLNM3500Q0</th>\n",
       "      <th>HIGH</th>\n",
       "      <th>LOW</th>\n",
       "      <th>OPEN</th>\n",
       "      <th>CLOSE</th>\n",
       "      <th>VOLUME</th>\n",
       "      <th>COUNT</th>\n",
       "      <th>type</th>\n",
       "    </tr>\n",
       "    <tr>\n",
       "      <th>Date</th>\n",
       "      <th></th>\n",
       "      <th></th>\n",
       "      <th></th>\n",
       "      <th></th>\n",
       "      <th></th>\n",
       "      <th></th>\n",
       "      <th></th>\n",
       "    </tr>\n",
       "  </thead>\n",
       "  <tbody>\n",
       "    <tr>\n",
       "      <th>2019-10-02</th>\n",
       "      <td>NaN</td>\n",
       "      <td>NaN</td>\n",
       "      <td>NaN</td>\n",
       "      <td>1.69</td>\n",
       "      <td>250.0</td>\n",
       "      <td>-1.0</td>\n",
       "      <td>CALL</td>\n",
       "    </tr>\n",
       "  </tbody>\n",
       "</table>\n",
       "</div>"
      ],
      "text/plain": [
       "NGLNM3500Q0  HIGH  LOW  OPEN  CLOSE  VOLUME  COUNT  type\n",
       "Date                                                    \n",
       "2019-10-02    NaN  NaN   NaN   1.69   250.0   -1.0  CALL"
      ]
     },
     "metadata": {},
     "output_type": "display_data"
    },
    {
     "ename": "NameError",
     "evalue": "name 'Main_DF' is not defined",
     "output_type": "error",
     "traceback": [
      "\u001b[1;31m---------------------------------------------------------------------------\u001b[0m",
      "\u001b[1;31mNameError\u001b[0m                                 Traceback (most recent call last)",
      "\u001b[1;32m<ipython-input-5-ca653aec293f>\u001b[0m in \u001b[0;36m<module>\u001b[1;34m()\u001b[0m\n\u001b[0;32m      1\u001b[0m \u001b[0mdisplay\u001b[0m\u001b[1;33m(\u001b[0m\u001b[0mMain_DF_Calls\u001b[0m\u001b[1;33m)\u001b[0m\u001b[1;33m\u001b[0m\u001b[0m\n\u001b[1;32m----> 2\u001b[1;33m \u001b[0mMain_DF\u001b[0m\u001b[1;33m.\u001b[0m\u001b[0mto_csv\u001b[0m\u001b[1;33m(\u001b[0m\u001b[1;34m'May_2020.csv'\u001b[0m\u001b[1;33m)\u001b[0m\u001b[1;33m\u001b[0m\u001b[0m\n\u001b[0m",
      "\u001b[1;31mNameError\u001b[0m: name 'Main_DF' is not defined"
     ]
    }
   ],
   "source": [
    "display(Main_DF_Calls)\n",
    "Main_DF.to_csv('May_2020.csv')"
   ]
  }
 ],
 "metadata": {
  "kernelspec": {
   "display_name": "Python 3",
   "language": "python",
   "name": "python3"
  },
  "language_info": {
   "codemirror_mode": {
    "name": "ipython",
    "version": 3
   },
   "file_extension": ".py",
   "mimetype": "text/x-python",
   "name": "python",
   "nbconvert_exporter": "python",
   "pygments_lexer": "ipython3",
   "version": "3.6.5"
  }
 },
 "nbformat": 4,
 "nbformat_minor": 2
}
