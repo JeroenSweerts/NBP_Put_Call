{
 "cells": [
  {
   "cell_type": "code",
   "execution_count": 4,
   "metadata": {
    "collapsed": true
   },
   "outputs": [],
   "source": [
    "import numpy as np\n",
    "import pandas as pd\n",
    "import time\n",
    "\n",
    "import eikon as ek\n",
    "ek.set_app_id('604ea22425e048d39af0ef760ec9c64ebbe1fe68')\n"
   ]
  },
  {
   "cell_type": "code",
   "execution_count": 5,
   "metadata": {},
   "outputs": [
    {
     "name": "stdout",
     "output_type": "stream",
     "text": [
      "['NGLNM0000K9', 'NGLNM0050K9', 'NGLNM0100K9', 'NGLNM0150K9', 'NGLNM0200K9', 'NGLNM0250K9', 'NGLNM0300K9', 'NGLNM0350K9', 'NGLNM0400K9', 'NGLNM0450K9', 'NGLNM0500K9', 'NGLNM0550K9', 'NGLNM0600K9', 'NGLNM0650K9', 'NGLNM0700K9', 'NGLNM0750K9', 'NGLNM0800K9', 'NGLNM0850K9', 'NGLNM0900K9', 'NGLNM0950K9', 'NGLNM1000K9', 'NGLNM1050K9', 'NGLNM1100K9', 'NGLNM1150K9', 'NGLNM1200K9', 'NGLNM1250K9', 'NGLNM1300K9', 'NGLNM1350K9', 'NGLNM1400K9', 'NGLNM1450K9', 'NGLNM1500K9', 'NGLNM1550K9', 'NGLNM1600K9', 'NGLNM1650K9', 'NGLNM1700K9', 'NGLNM1750K9', 'NGLNM1800K9', 'NGLNM1850K9', 'NGLNM1900K9', 'NGLNM1950K9', 'NGLNM2000K9', 'NGLNM2050K9', 'NGLNM2100K9', 'NGLNM2150K9', 'NGLNM2200K9', 'NGLNM2250K9', 'NGLNM2300K9', 'NGLNM2350K9', 'NGLNM2400K9', 'NGLNM2450K9', 'NGLNM2500K9', 'NGLNM2550K9', 'NGLNM2600K9', 'NGLNM2650K9', 'NGLNM2700K9', 'NGLNM2750K9', 'NGLNM2800K9', 'NGLNM2850K9', 'NGLNM2900K9', 'NGLNM2950K9', 'NGLNM3000K9', 'NGLNM3050K9', 'NGLNM3100K9', 'NGLNM3150K9', 'NGLNM3200K9', 'NGLNM3250K9', 'NGLNM3300K9', 'NGLNM3350K9', 'NGLNM3400K9', 'NGLNM3450K9', 'NGLNM3500K9', 'NGLNM3550K9', 'NGLNM3600K9', 'NGLNM3650K9', 'NGLNM3700K9', 'NGLNM3750K9', 'NGLNM3800K9', 'NGLNM3850K9', 'NGLNM3900K9', 'NGLNM3950K9', 'NGLNM4000K9', 'NGLNM4050K9', 'NGLNM4100K9', 'NGLNM4150K9', 'NGLNM4200K9', 'NGLNM4250K9', 'NGLNM4300K9', 'NGLNM4350K9', 'NGLNM4400K9', 'NGLNM4450K9', 'NGLNM4500K9', 'NGLNM4550K9', 'NGLNM4600K9', 'NGLNM4650K9', 'NGLNM4700K9', 'NGLNM4750K9', 'NGLNM4800K9', 'NGLNM4850K9', 'NGLNM4900K9', 'NGLNM4950K9', 'NGLNM5000K9', 'NGLNM5050K9', 'NGLNM5100K9', 'NGLNM5150K9', 'NGLNM5200K9', 'NGLNM5250K9', 'NGLNM5300K9', 'NGLNM5350K9', 'NGLNM5400K9', 'NGLNM5450K9', 'NGLNM5500K9', 'NGLNM5550K9', 'NGLNM5600K9', 'NGLNM5650K9', 'NGLNM5700K9', 'NGLNM5750K9', 'NGLNM5800K9', 'NGLNM5850K9', 'NGLNM5900K9', 'NGLNM5950K9', 'NGLNM6000K9', 'NGLNM6050K9', 'NGLNM6100K9', 'NGLNM6150K9', 'NGLNM6200K9', 'NGLNM6250K9', 'NGLNM6300K9', 'NGLNM6350K9', 'NGLNM6400K9', 'NGLNM6450K9', 'NGLNM6500K9', 'NGLNM6550K9', 'NGLNM6600K9', 'NGLNM6650K9', 'NGLNM6700K9', 'NGLNM6750K9', 'NGLNM6800K9', 'NGLNM6850K9', 'NGLNM6900K9', 'NGLNM6950K9', 'NGLNM7000K9', 'NGLNM7050K9', 'NGLNM7100K9', 'NGLNM7150K9', 'NGLNM7200K9', 'NGLNM7250K9', 'NGLNM7300K9', 'NGLNM7350K9', 'NGLNM7400K9', 'NGLNM7450K9', 'NGLNM7500K9', 'NGLNM7550K9', 'NGLNM7600K9', 'NGLNM7650K9', 'NGLNM7700K9', 'NGLNM7750K9', 'NGLNM7800K9', 'NGLNM7850K9', 'NGLNM7900K9', 'NGLNM7950K9', 'NGLNM8000K9', 'NGLNM8050K9', 'NGLNM8100K9', 'NGLNM8150K9', 'NGLNM8200K9', 'NGLNM8250K9', 'NGLNM8300K9', 'NGLNM8350K9', 'NGLNM8400K9', 'NGLNM8450K9', 'NGLNM8500K9', 'NGLNM8550K9', 'NGLNM8600K9', 'NGLNM8650K9', 'NGLNM8700K9', 'NGLNM8750K9', 'NGLNM8800K9', 'NGLNM8850K9', 'NGLNM8900K9', 'NGLNM8950K9', 'NGLNM9000K9', 'NGLNM9050K9', 'NGLNM9100K9', 'NGLNM9150K9', 'NGLNM9200K9', 'NGLNM9250K9', 'NGLNM9300K9', 'NGLNM9350K9', 'NGLNM9400K9', 'NGLNM9450K9', 'NGLNM9500K9', 'NGLNM9550K9', 'NGLNM9600K9', 'NGLNM9650K9', 'NGLNM9700K9', 'NGLNM9750K9', 'NGLNM9800K9', 'NGLNM9850K9', 'NGLNM9900K9', 'NGLNM9950K9']\n",
      "['NGLNM0000W9', 'NGLNM0050W9', 'NGLNM0100W9', 'NGLNM0150W9', 'NGLNM0200W9', 'NGLNM0250W9', 'NGLNM0300W9', 'NGLNM0350W9', 'NGLNM0400W9', 'NGLNM0450W9', 'NGLNM0500W9', 'NGLNM0550W9', 'NGLNM0600W9', 'NGLNM0650W9', 'NGLNM0700W9', 'NGLNM0750W9', 'NGLNM0800W9', 'NGLNM0850W9', 'NGLNM0900W9', 'NGLNM0950W9', 'NGLNM1000W9', 'NGLNM1050W9', 'NGLNM1100W9', 'NGLNM1150W9', 'NGLNM1200W9', 'NGLNM1250W9', 'NGLNM1300W9', 'NGLNM1350W9', 'NGLNM1400W9', 'NGLNM1450W9', 'NGLNM1500W9', 'NGLNM1550W9', 'NGLNM1600W9', 'NGLNM1650W9', 'NGLNM1700W9', 'NGLNM1750W9', 'NGLNM1800W9', 'NGLNM1850W9', 'NGLNM1900W9', 'NGLNM1950W9', 'NGLNM2000W9', 'NGLNM2050W9', 'NGLNM2100W9', 'NGLNM2150W9', 'NGLNM2200W9', 'NGLNM2250W9', 'NGLNM2300W9', 'NGLNM2350W9', 'NGLNM2400W9', 'NGLNM2450W9', 'NGLNM2500W9', 'NGLNM2550W9', 'NGLNM2600W9', 'NGLNM2650W9', 'NGLNM2700W9', 'NGLNM2750W9', 'NGLNM2800W9', 'NGLNM2850W9', 'NGLNM2900W9', 'NGLNM2950W9', 'NGLNM3000W9', 'NGLNM3050W9', 'NGLNM3100W9', 'NGLNM3150W9', 'NGLNM3200W9', 'NGLNM3250W9', 'NGLNM3300W9', 'NGLNM3350W9', 'NGLNM3400W9', 'NGLNM3450W9', 'NGLNM3500W9', 'NGLNM3550W9', 'NGLNM3600W9', 'NGLNM3650W9', 'NGLNM3700W9', 'NGLNM3750W9', 'NGLNM3800W9', 'NGLNM3850W9', 'NGLNM3900W9', 'NGLNM3950W9', 'NGLNM4000W9', 'NGLNM4050W9', 'NGLNM4100W9', 'NGLNM4150W9', 'NGLNM4200W9', 'NGLNM4250W9', 'NGLNM4300W9', 'NGLNM4350W9', 'NGLNM4400W9', 'NGLNM4450W9', 'NGLNM4500W9', 'NGLNM4550W9', 'NGLNM4600W9', 'NGLNM4650W9', 'NGLNM4700W9', 'NGLNM4750W9', 'NGLNM4800W9', 'NGLNM4850W9', 'NGLNM4900W9', 'NGLNM4950W9', 'NGLNM5000W9', 'NGLNM5050W9', 'NGLNM5100W9', 'NGLNM5150W9', 'NGLNM5200W9', 'NGLNM5250W9', 'NGLNM5300W9', 'NGLNM5350W9', 'NGLNM5400W9', 'NGLNM5450W9', 'NGLNM5500W9', 'NGLNM5550W9', 'NGLNM5600W9', 'NGLNM5650W9', 'NGLNM5700W9', 'NGLNM5750W9', 'NGLNM5800W9', 'NGLNM5850W9', 'NGLNM5900W9', 'NGLNM5950W9', 'NGLNM6000W9', 'NGLNM6050W9', 'NGLNM6100W9', 'NGLNM6150W9', 'NGLNM6200W9', 'NGLNM6250W9', 'NGLNM6300W9', 'NGLNM6350W9', 'NGLNM6400W9', 'NGLNM6450W9', 'NGLNM6500W9', 'NGLNM6550W9', 'NGLNM6600W9', 'NGLNM6650W9', 'NGLNM6700W9', 'NGLNM6750W9', 'NGLNM6800W9', 'NGLNM6850W9', 'NGLNM6900W9', 'NGLNM6950W9', 'NGLNM7000W9', 'NGLNM7050W9', 'NGLNM7100W9', 'NGLNM7150W9', 'NGLNM7200W9', 'NGLNM7250W9', 'NGLNM7300W9', 'NGLNM7350W9', 'NGLNM7400W9', 'NGLNM7450W9', 'NGLNM7500W9', 'NGLNM7550W9', 'NGLNM7600W9', 'NGLNM7650W9', 'NGLNM7700W9', 'NGLNM7750W9', 'NGLNM7800W9', 'NGLNM7850W9', 'NGLNM7900W9', 'NGLNM7950W9', 'NGLNM8000W9', 'NGLNM8050W9', 'NGLNM8100W9', 'NGLNM8150W9', 'NGLNM8200W9', 'NGLNM8250W9', 'NGLNM8300W9', 'NGLNM8350W9', 'NGLNM8400W9', 'NGLNM8450W9', 'NGLNM8500W9', 'NGLNM8550W9', 'NGLNM8600W9', 'NGLNM8650W9', 'NGLNM8700W9', 'NGLNM8750W9', 'NGLNM8800W9', 'NGLNM8850W9', 'NGLNM8900W9', 'NGLNM8950W9', 'NGLNM9000W9', 'NGLNM9050W9', 'NGLNM9100W9', 'NGLNM9150W9', 'NGLNM9200W9', 'NGLNM9250W9', 'NGLNM9300W9', 'NGLNM9350W9', 'NGLNM9400W9', 'NGLNM9450W9', 'NGLNM9500W9', 'NGLNM9550W9', 'NGLNM9600W9', 'NGLNM9650W9', 'NGLNM9700W9', 'NGLNM9750W9', 'NGLNM9800W9', 'NGLNM9850W9', 'NGLNM9900W9', 'NGLNM9950W9']\n"
     ]
    }
   ],
   "source": [
    "strikes = []\n",
    "\n",
    "for i in range(0,1000,5):\n",
    "    strike = str(i)+'0'\n",
    "    if len(strike) == 2:\n",
    "        strike = '00'+strike\n",
    "    if len(strike) == 3:\n",
    "        strike = '0'+strike\n",
    "    strikes.append(strike)\n",
    "\n",
    "tickers_calls = []\n",
    "tickers_puts = []\n",
    "for strike in strikes:\n",
    "    tickers_puts.append('NGLNM'+strike+'W9')\n",
    "for strike in strikes:\n",
    "    tickers_calls.append('NGLNM'+strike+'K9')\n",
    "print(tickers_calls)\n",
    "print(tickers_puts)"
   ]
  },
  {
   "cell_type": "code",
   "execution_count": null,
   "metadata": {
    "scrolled": true
   },
   "outputs": [
    {
     "name": "stdout",
     "output_type": "stream",
     "text": [
      "0\n"
     ]
    },
    {
     "name": "stderr",
     "output_type": "stream",
     "text": [
      "Error with NGLNM0000K9: Invalid RIC\n"
     ]
    },
    {
     "name": "stdout",
     "output_type": "stream",
     "text": [
      "1\n"
     ]
    },
    {
     "name": "stderr",
     "output_type": "stream",
     "text": [
      "Error with NGLNM0050K9: Invalid RIC\n"
     ]
    },
    {
     "name": "stdout",
     "output_type": "stream",
     "text": [
      "2\n"
     ]
    },
    {
     "name": "stderr",
     "output_type": "stream",
     "text": [
      "Error with NGLNM0100K9: Invalid RIC\n"
     ]
    },
    {
     "name": "stdout",
     "output_type": "stream",
     "text": [
      "3\n"
     ]
    },
    {
     "name": "stderr",
     "output_type": "stream",
     "text": [
      "Error with NGLNM0150K9: Invalid RIC\n"
     ]
    },
    {
     "name": "stdout",
     "output_type": "stream",
     "text": [
      "4\n"
     ]
    },
    {
     "name": "stderr",
     "output_type": "stream",
     "text": [
      "Error with NGLNM0200K9: Invalid RIC\n"
     ]
    },
    {
     "name": "stdout",
     "output_type": "stream",
     "text": [
      "5\n"
     ]
    },
    {
     "name": "stderr",
     "output_type": "stream",
     "text": [
      "Error with NGLNM0250K9: Invalid RIC\n"
     ]
    },
    {
     "name": "stdout",
     "output_type": "stream",
     "text": [
      "6\n"
     ]
    },
    {
     "name": "stderr",
     "output_type": "stream",
     "text": [
      "Error with NGLNM0300K9: Invalid RIC\n"
     ]
    },
    {
     "name": "stdout",
     "output_type": "stream",
     "text": [
      "7\n"
     ]
    },
    {
     "name": "stderr",
     "output_type": "stream",
     "text": [
      "Error with NGLNM0350K9: Invalid RIC\n"
     ]
    },
    {
     "name": "stdout",
     "output_type": "stream",
     "text": [
      "8\n"
     ]
    },
    {
     "name": "stderr",
     "output_type": "stream",
     "text": [
      "Error with NGLNM0400K9: Invalid RIC\n"
     ]
    },
    {
     "name": "stdout",
     "output_type": "stream",
     "text": [
      "9\n"
     ]
    },
    {
     "name": "stderr",
     "output_type": "stream",
     "text": [
      "Error with NGLNM0450K9: Invalid RIC\n"
     ]
    },
    {
     "name": "stdout",
     "output_type": "stream",
     "text": [
      "10\n"
     ]
    },
    {
     "name": "stderr",
     "output_type": "stream",
     "text": [
      "Error with NGLNM0500K9: Invalid RIC\n"
     ]
    },
    {
     "name": "stdout",
     "output_type": "stream",
     "text": [
      "11\n"
     ]
    },
    {
     "name": "stderr",
     "output_type": "stream",
     "text": [
      "Error with NGLNM0550K9: Invalid RIC\n"
     ]
    },
    {
     "name": "stdout",
     "output_type": "stream",
     "text": [
      "12\n"
     ]
    },
    {
     "name": "stderr",
     "output_type": "stream",
     "text": [
      "Error with NGLNM0600K9: Invalid RIC\n"
     ]
    },
    {
     "name": "stdout",
     "output_type": "stream",
     "text": [
      "13\n"
     ]
    },
    {
     "name": "stderr",
     "output_type": "stream",
     "text": [
      "Error with NGLNM0650K9: Invalid RIC\n"
     ]
    },
    {
     "name": "stdout",
     "output_type": "stream",
     "text": [
      "14\n"
     ]
    },
    {
     "name": "stderr",
     "output_type": "stream",
     "text": [
      "Error with NGLNM0700K9: Invalid RIC\n"
     ]
    },
    {
     "name": "stdout",
     "output_type": "stream",
     "text": [
      "15\n"
     ]
    },
    {
     "name": "stderr",
     "output_type": "stream",
     "text": [
      "Error with NGLNM0750K9: Invalid RIC\n"
     ]
    },
    {
     "name": "stdout",
     "output_type": "stream",
     "text": [
      "16\n"
     ]
    },
    {
     "name": "stderr",
     "output_type": "stream",
     "text": [
      "Error with NGLNM0800K9: Invalid RIC\n"
     ]
    },
    {
     "name": "stdout",
     "output_type": "stream",
     "text": [
      "17\n"
     ]
    },
    {
     "name": "stderr",
     "output_type": "stream",
     "text": [
      "Error with NGLNM0850K9: Invalid RIC\n"
     ]
    },
    {
     "name": "stdout",
     "output_type": "stream",
     "text": [
      "18\n"
     ]
    },
    {
     "name": "stderr",
     "output_type": "stream",
     "text": [
      "Error with NGLNM0900K9: Invalid RIC\n"
     ]
    },
    {
     "name": "stdout",
     "output_type": "stream",
     "text": [
      "19\n"
     ]
    },
    {
     "name": "stderr",
     "output_type": "stream",
     "text": [
      "Error with NGLNM0950K9: Invalid RIC\n"
     ]
    },
    {
     "name": "stdout",
     "output_type": "stream",
     "text": [
      "20\n"
     ]
    },
    {
     "name": "stderr",
     "output_type": "stream",
     "text": [
      "Error with NGLNM1000K9: Invalid RIC\n"
     ]
    },
    {
     "name": "stdout",
     "output_type": "stream",
     "text": [
      "21\n"
     ]
    },
    {
     "name": "stderr",
     "output_type": "stream",
     "text": [
      "Error with NGLNM1050K9: Invalid RIC\n"
     ]
    },
    {
     "name": "stdout",
     "output_type": "stream",
     "text": [
      "22\n"
     ]
    },
    {
     "name": "stderr",
     "output_type": "stream",
     "text": [
      "Error with NGLNM1100K9: Invalid RIC\n"
     ]
    },
    {
     "name": "stdout",
     "output_type": "stream",
     "text": [
      "23\n"
     ]
    },
    {
     "name": "stderr",
     "output_type": "stream",
     "text": [
      "Error with NGLNM1150K9: Invalid RIC\n"
     ]
    },
    {
     "name": "stdout",
     "output_type": "stream",
     "text": [
      "24\n"
     ]
    },
    {
     "name": "stderr",
     "output_type": "stream",
     "text": [
      "Error with NGLNM1200K9: Invalid RIC\n"
     ]
    },
    {
     "name": "stdout",
     "output_type": "stream",
     "text": [
      "25\n"
     ]
    },
    {
     "name": "stderr",
     "output_type": "stream",
     "text": [
      "Error with NGLNM1250K9: Invalid RIC\n"
     ]
    },
    {
     "name": "stdout",
     "output_type": "stream",
     "text": [
      "26\n"
     ]
    },
    {
     "name": "stderr",
     "output_type": "stream",
     "text": [
      "Error with NGLNM1300K9: Invalid RIC\n"
     ]
    },
    {
     "name": "stdout",
     "output_type": "stream",
     "text": [
      "27\n"
     ]
    },
    {
     "name": "stderr",
     "output_type": "stream",
     "text": [
      "Error with NGLNM1350K9: Invalid RIC\n"
     ]
    },
    {
     "name": "stdout",
     "output_type": "stream",
     "text": [
      "28\n"
     ]
    },
    {
     "name": "stderr",
     "output_type": "stream",
     "text": [
      "Error with NGLNM1400K9: Invalid RIC\n"
     ]
    },
    {
     "name": "stdout",
     "output_type": "stream",
     "text": [
      "29\n"
     ]
    },
    {
     "name": "stderr",
     "output_type": "stream",
     "text": [
      "Error with NGLNM1450K9: Invalid RIC\n"
     ]
    },
    {
     "name": "stdout",
     "output_type": "stream",
     "text": [
      "30\n"
     ]
    },
    {
     "name": "stderr",
     "output_type": "stream",
     "text": [
      "Error with NGLNM1500K9: Invalid RIC\n"
     ]
    },
    {
     "name": "stdout",
     "output_type": "stream",
     "text": [
      "31\n"
     ]
    },
    {
     "name": "stderr",
     "output_type": "stream",
     "text": [
      "Error with NGLNM1550K9: Invalid RIC\n"
     ]
    },
    {
     "name": "stdout",
     "output_type": "stream",
     "text": [
      "32\n"
     ]
    },
    {
     "name": "stderr",
     "output_type": "stream",
     "text": [
      "Error with NGLNM1600K9: Invalid RIC\n"
     ]
    },
    {
     "name": "stdout",
     "output_type": "stream",
     "text": [
      "33\n"
     ]
    },
    {
     "name": "stderr",
     "output_type": "stream",
     "text": [
      "Error with NGLNM1650K9: Invalid RIC\n"
     ]
    },
    {
     "name": "stdout",
     "output_type": "stream",
     "text": [
      "34\n"
     ]
    },
    {
     "name": "stderr",
     "output_type": "stream",
     "text": [
      "Error with NGLNM1700K9: Invalid RIC\n"
     ]
    },
    {
     "name": "stdout",
     "output_type": "stream",
     "text": [
      "35\n"
     ]
    },
    {
     "name": "stderr",
     "output_type": "stream",
     "text": [
      "Error with NGLNM1750K9: Invalid RIC\n"
     ]
    },
    {
     "name": "stdout",
     "output_type": "stream",
     "text": [
      "36\n"
     ]
    },
    {
     "name": "stderr",
     "output_type": "stream",
     "text": [
      "Error with NGLNM1800K9: Invalid RIC\n"
     ]
    },
    {
     "name": "stdout",
     "output_type": "stream",
     "text": [
      "37\n"
     ]
    },
    {
     "name": "stderr",
     "output_type": "stream",
     "text": [
      "Error with NGLNM1850K9: Invalid RIC\n"
     ]
    },
    {
     "name": "stdout",
     "output_type": "stream",
     "text": [
      "38\n"
     ]
    },
    {
     "name": "stderr",
     "output_type": "stream",
     "text": [
      "Error with NGLNM1900K9: Invalid RIC\n"
     ]
    },
    {
     "name": "stdout",
     "output_type": "stream",
     "text": [
      "39\n"
     ]
    },
    {
     "name": "stderr",
     "output_type": "stream",
     "text": [
      "Error with NGLNM1950K9: Invalid RIC\n"
     ]
    },
    {
     "name": "stdout",
     "output_type": "stream",
     "text": [
      "40\n"
     ]
    },
    {
     "name": "stderr",
     "output_type": "stream",
     "text": [
      "Error with NGLNM2000K9: Invalid RIC\n"
     ]
    },
    {
     "name": "stdout",
     "output_type": "stream",
     "text": [
      "41\n"
     ]
    },
    {
     "name": "stderr",
     "output_type": "stream",
     "text": [
      "Error with NGLNM2050K9: Invalid RIC\n"
     ]
    },
    {
     "name": "stdout",
     "output_type": "stream",
     "text": [
      "42\n"
     ]
    },
    {
     "name": "stderr",
     "output_type": "stream",
     "text": [
      "Error with NGLNM2100K9: Invalid RIC\n"
     ]
    },
    {
     "name": "stdout",
     "output_type": "stream",
     "text": [
      "43\n"
     ]
    },
    {
     "name": "stderr",
     "output_type": "stream",
     "text": [
      "Error with NGLNM2150K9: Invalid RIC\n"
     ]
    },
    {
     "name": "stdout",
     "output_type": "stream",
     "text": [
      "44\n"
     ]
    },
    {
     "name": "stderr",
     "output_type": "stream",
     "text": [
      "Error with NGLNM2200K9: Invalid RIC\n"
     ]
    },
    {
     "name": "stdout",
     "output_type": "stream",
     "text": [
      "45\n"
     ]
    },
    {
     "name": "stderr",
     "output_type": "stream",
     "text": [
      "Error with NGLNM2250K9: Invalid RIC\n"
     ]
    },
    {
     "name": "stdout",
     "output_type": "stream",
     "text": [
      "46\n"
     ]
    },
    {
     "name": "stderr",
     "output_type": "stream",
     "text": [
      "Error with NGLNM2300K9: Invalid RIC\n"
     ]
    },
    {
     "name": "stdout",
     "output_type": "stream",
     "text": [
      "47\n"
     ]
    },
    {
     "name": "stderr",
     "output_type": "stream",
     "text": [
      "Error with NGLNM2350K9: Invalid RIC\n"
     ]
    },
    {
     "name": "stdout",
     "output_type": "stream",
     "text": [
      "48\n"
     ]
    },
    {
     "name": "stderr",
     "output_type": "stream",
     "text": [
      "Error with NGLNM2400K9: Invalid RIC\n"
     ]
    },
    {
     "name": "stdout",
     "output_type": "stream",
     "text": [
      "49\n"
     ]
    },
    {
     "name": "stderr",
     "output_type": "stream",
     "text": [
      "Error with NGLNM2450K9: Invalid RIC\n"
     ]
    },
    {
     "name": "stdout",
     "output_type": "stream",
     "text": [
      "50\n"
     ]
    },
    {
     "name": "stderr",
     "output_type": "stream",
     "text": [
      "Error with NGLNM2500K9: Invalid RIC\n"
     ]
    },
    {
     "name": "stdout",
     "output_type": "stream",
     "text": [
      "51\n"
     ]
    },
    {
     "name": "stderr",
     "output_type": "stream",
     "text": [
      "Error with NGLNM2550K9: Invalid RIC\n"
     ]
    },
    {
     "name": "stdout",
     "output_type": "stream",
     "text": [
      "52\n"
     ]
    },
    {
     "name": "stderr",
     "output_type": "stream",
     "text": [
      "Error with NGLNM2600K9: Invalid RIC\n"
     ]
    },
    {
     "name": "stdout",
     "output_type": "stream",
     "text": [
      "53\n"
     ]
    },
    {
     "name": "stderr",
     "output_type": "stream",
     "text": [
      "Error with NGLNM2650K9: Invalid RIC\n"
     ]
    },
    {
     "name": "stdout",
     "output_type": "stream",
     "text": [
      "54\n"
     ]
    },
    {
     "name": "stderr",
     "output_type": "stream",
     "text": [
      "Error with NGLNM2700K9: Invalid RIC\n"
     ]
    },
    {
     "name": "stdout",
     "output_type": "stream",
     "text": [
      "55\n"
     ]
    },
    {
     "name": "stderr",
     "output_type": "stream",
     "text": [
      "Error with NGLNM2750K9: Invalid RIC\n"
     ]
    },
    {
     "name": "stdout",
     "output_type": "stream",
     "text": [
      "56\n"
     ]
    },
    {
     "name": "stderr",
     "output_type": "stream",
     "text": [
      "Error with NGLNM2800K9: Invalid RIC\n"
     ]
    },
    {
     "name": "stdout",
     "output_type": "stream",
     "text": [
      "57\n"
     ]
    },
    {
     "name": "stderr",
     "output_type": "stream",
     "text": [
      "Error with NGLNM2850K9: Invalid RIC\n"
     ]
    },
    {
     "name": "stdout",
     "output_type": "stream",
     "text": [
      "58\n"
     ]
    },
    {
     "name": "stderr",
     "output_type": "stream",
     "text": [
      "Error with NGLNM2900K9: Invalid RIC\n"
     ]
    },
    {
     "name": "stdout",
     "output_type": "stream",
     "text": [
      "59\n"
     ]
    },
    {
     "name": "stderr",
     "output_type": "stream",
     "text": [
      "Error with NGLNM2950K9: Invalid RIC\n"
     ]
    },
    {
     "name": "stdout",
     "output_type": "stream",
     "text": [
      "60\n"
     ]
    },
    {
     "name": "stderr",
     "output_type": "stream",
     "text": [
      "Error with NGLNM3000K9: Invalid RIC\n"
     ]
    },
    {
     "name": "stdout",
     "output_type": "stream",
     "text": [
      "61\n"
     ]
    },
    {
     "name": "stderr",
     "output_type": "stream",
     "text": [
      "Error with NGLNM3050K9: Invalid RIC\n"
     ]
    },
    {
     "name": "stdout",
     "output_type": "stream",
     "text": [
      "62\n",
      "DataFrame is empty!\n",
      "63\n",
      "DataFrame is empty!\n",
      "64\n",
      "DataFrame is empty!\n",
      "65\n",
      "DataFrame is empty!\n",
      "66\n",
      "DataFrame is empty!\n",
      "67\n",
      "DataFrame is empty!\n",
      "68\n",
      "DataFrame is empty!\n",
      "69\n",
      "DataFrame is empty!\n",
      "70\n",
      "DataFrame is empty!\n",
      "71\n",
      "DataFrame is empty!\n",
      "72\n",
      "DataFrame is empty!\n",
      "73\n",
      "DataFrame is empty!\n",
      "74\n",
      "DataFrame is empty!\n",
      "75\n",
      "DataFrame is empty!\n",
      "76\n",
      "DataFrame is empty!\n",
      "77\n",
      "DataFrame is empty!\n",
      "78\n",
      "DataFrame is empty!\n",
      "79\n",
      "DataFrame is empty!\n",
      "80\n",
      "DataFrame is empty!\n",
      "81\n",
      "DataFrame is empty!\n",
      "82\n",
      "DataFrame is empty!\n",
      "83\n",
      "DataFrame is empty!\n",
      "84\n",
      "DataFrame is empty!\n",
      "85\n",
      "DataFrame is empty!\n",
      "86\n",
      "DataFrame is empty!\n",
      "87\n",
      "DataFrame is empty!\n",
      "88\n",
      "DataFrame is empty!\n",
      "89\n",
      "DataFrame is empty!\n",
      "90\n",
      "DataFrame is empty!\n",
      "91\n",
      "DataFrame is empty!\n",
      "92\n",
      "DataFrame is empty!\n",
      "93\n",
      "DataFrame is empty!\n",
      "94\n",
      "DataFrame is empty!\n",
      "95\n",
      "DataFrame is empty!\n",
      "96\n",
      "DataFrame is empty!\n",
      "97\n",
      "DataFrame is empty!\n",
      "98\n",
      "99\n",
      "DataFrame is empty!\n",
      "100\n",
      "DataFrame is empty!\n",
      "101\n",
      "DataFrame is empty!\n",
      "102\n",
      "DataFrame is empty!\n",
      "103\n",
      "DataFrame is empty!\n",
      "104\n",
      "DataFrame is empty!\n",
      "105\n",
      "DataFrame is empty!\n",
      "106\n",
      "DataFrame is empty!\n",
      "107\n",
      "DataFrame is empty!\n",
      "108\n",
      "DataFrame is empty!\n",
      "109\n",
      "DataFrame is empty!\n",
      "110\n",
      "DataFrame is empty!\n",
      "111\n",
      "DataFrame is empty!\n",
      "112\n",
      "DataFrame is empty!\n",
      "113\n",
      "DataFrame is empty!\n",
      "114\n",
      "DataFrame is empty!\n",
      "115\n",
      "DataFrame is empty!\n",
      "116\n",
      "DataFrame is empty!\n",
      "117\n",
      "DataFrame is empty!\n",
      "118\n",
      "DataFrame is empty!\n",
      "119\n",
      "DataFrame is empty!\n",
      "120\n",
      "DataFrame is empty!\n",
      "121\n",
      "DataFrame is empty!\n",
      "122\n",
      "DataFrame is empty!\n",
      "123\n",
      "DataFrame is empty!\n",
      "124\n",
      "DataFrame is empty!\n",
      "125\n",
      "DataFrame is empty!\n",
      "126\n",
      "DataFrame is empty!\n",
      "127\n",
      "DataFrame is empty!\n",
      "128\n",
      "DataFrame is empty!\n",
      "129\n",
      "DataFrame is empty!\n",
      "130\n",
      "DataFrame is empty!\n",
      "131\n",
      "DataFrame is empty!\n",
      "132\n",
      "DataFrame is empty!\n",
      "133\n",
      "DataFrame is empty!\n",
      "134\n",
      "DataFrame is empty!\n",
      "135\n",
      "DataFrame is empty!\n",
      "136\n",
      "DataFrame is empty!\n",
      "137\n",
      "DataFrame is empty!\n",
      "138\n",
      "DataFrame is empty!\n",
      "139\n",
      "DataFrame is empty!\n",
      "140\n",
      "DataFrame is empty!\n",
      "141\n",
      "DataFrame is empty!\n",
      "142\n",
      "DataFrame is empty!\n",
      "143\n",
      "DataFrame is empty!\n",
      "144\n",
      "DataFrame is empty!\n",
      "145\n",
      "DataFrame is empty!\n",
      "146\n",
      "DataFrame is empty!\n",
      "147\n",
      "DataFrame is empty!\n",
      "148\n",
      "DataFrame is empty!\n",
      "149\n",
      "DataFrame is empty!\n",
      "150\n",
      "DataFrame is empty!\n",
      "151\n",
      "DataFrame is empty!\n",
      "152\n",
      "DataFrame is empty!\n",
      "153\n",
      "DataFrame is empty!\n",
      "154\n",
      "DataFrame is empty!\n",
      "155\n",
      "DataFrame is empty!\n",
      "156\n",
      "DataFrame is empty!\n",
      "157\n",
      "DataFrame is empty!\n",
      "158\n"
     ]
    },
    {
     "name": "stderr",
     "output_type": "stream",
     "text": [
      "Error with NGLNM7900K9: Invalid RIC\n"
     ]
    },
    {
     "name": "stdout",
     "output_type": "stream",
     "text": [
      "159\n"
     ]
    },
    {
     "name": "stderr",
     "output_type": "stream",
     "text": [
      "Error with NGLNM7950K9: Invalid RIC\n"
     ]
    },
    {
     "name": "stdout",
     "output_type": "stream",
     "text": [
      "160\n"
     ]
    },
    {
     "name": "stderr",
     "output_type": "stream",
     "text": [
      "Error with NGLNM8000K9: Invalid RIC\n"
     ]
    },
    {
     "name": "stdout",
     "output_type": "stream",
     "text": [
      "161\n"
     ]
    },
    {
     "name": "stderr",
     "output_type": "stream",
     "text": [
      "Error with NGLNM8050K9: Invalid RIC\n"
     ]
    },
    {
     "name": "stdout",
     "output_type": "stream",
     "text": [
      "162\n"
     ]
    },
    {
     "name": "stderr",
     "output_type": "stream",
     "text": [
      "Error with NGLNM8100K9: Invalid RIC\n"
     ]
    },
    {
     "name": "stdout",
     "output_type": "stream",
     "text": [
      "163\n"
     ]
    },
    {
     "name": "stderr",
     "output_type": "stream",
     "text": [
      "Error with NGLNM8150K9: Invalid RIC\n"
     ]
    },
    {
     "name": "stdout",
     "output_type": "stream",
     "text": [
      "164\n"
     ]
    },
    {
     "name": "stderr",
     "output_type": "stream",
     "text": [
      "Error with NGLNM8200K9: Invalid RIC\n"
     ]
    },
    {
     "name": "stdout",
     "output_type": "stream",
     "text": [
      "165\n"
     ]
    },
    {
     "name": "stderr",
     "output_type": "stream",
     "text": [
      "Error with NGLNM8250K9: Invalid RIC\n"
     ]
    },
    {
     "name": "stdout",
     "output_type": "stream",
     "text": [
      "166\n"
     ]
    },
    {
     "name": "stderr",
     "output_type": "stream",
     "text": [
      "Error with NGLNM8300K9: Invalid RIC\n"
     ]
    },
    {
     "name": "stdout",
     "output_type": "stream",
     "text": [
      "167\n"
     ]
    },
    {
     "name": "stderr",
     "output_type": "stream",
     "text": [
      "Error with NGLNM8350K9: Invalid RIC\n"
     ]
    },
    {
     "name": "stdout",
     "output_type": "stream",
     "text": [
      "168\n"
     ]
    },
    {
     "name": "stderr",
     "output_type": "stream",
     "text": [
      "Error with NGLNM8400K9: Invalid RIC\n"
     ]
    },
    {
     "name": "stdout",
     "output_type": "stream",
     "text": [
      "169\n"
     ]
    },
    {
     "name": "stderr",
     "output_type": "stream",
     "text": [
      "Error with NGLNM8450K9: Invalid RIC\n"
     ]
    },
    {
     "name": "stdout",
     "output_type": "stream",
     "text": [
      "170\n"
     ]
    },
    {
     "name": "stderr",
     "output_type": "stream",
     "text": [
      "Error with NGLNM8500K9: Invalid RIC\n"
     ]
    },
    {
     "name": "stdout",
     "output_type": "stream",
     "text": [
      "171\n"
     ]
    },
    {
     "name": "stderr",
     "output_type": "stream",
     "text": [
      "Error with NGLNM8550K9: Invalid RIC\n"
     ]
    },
    {
     "name": "stdout",
     "output_type": "stream",
     "text": [
      "172\n"
     ]
    },
    {
     "name": "stderr",
     "output_type": "stream",
     "text": [
      "Error with NGLNM8600K9: Invalid RIC\n"
     ]
    },
    {
     "name": "stdout",
     "output_type": "stream",
     "text": [
      "173\n"
     ]
    },
    {
     "name": "stderr",
     "output_type": "stream",
     "text": [
      "Error with NGLNM8650K9: Invalid RIC\n"
     ]
    },
    {
     "name": "stdout",
     "output_type": "stream",
     "text": [
      "174\n"
     ]
    },
    {
     "name": "stderr",
     "output_type": "stream",
     "text": [
      "Error with NGLNM8700K9: Invalid RIC\n"
     ]
    },
    {
     "name": "stdout",
     "output_type": "stream",
     "text": [
      "175\n"
     ]
    },
    {
     "name": "stderr",
     "output_type": "stream",
     "text": [
      "Error with NGLNM8750K9: Invalid RIC\n"
     ]
    },
    {
     "name": "stdout",
     "output_type": "stream",
     "text": [
      "176\n"
     ]
    },
    {
     "name": "stderr",
     "output_type": "stream",
     "text": [
      "Error with NGLNM8800K9: Invalid RIC\n"
     ]
    },
    {
     "name": "stdout",
     "output_type": "stream",
     "text": [
      "177\n"
     ]
    },
    {
     "name": "stderr",
     "output_type": "stream",
     "text": [
      "Error with NGLNM8850K9: Invalid RIC\n"
     ]
    },
    {
     "name": "stdout",
     "output_type": "stream",
     "text": [
      "178\n"
     ]
    },
    {
     "name": "stderr",
     "output_type": "stream",
     "text": [
      "Error with NGLNM8900K9: Invalid RIC\n"
     ]
    },
    {
     "name": "stdout",
     "output_type": "stream",
     "text": [
      "179\n"
     ]
    },
    {
     "name": "stderr",
     "output_type": "stream",
     "text": [
      "Error with NGLNM8950K9: Invalid RIC\n"
     ]
    },
    {
     "name": "stdout",
     "output_type": "stream",
     "text": [
      "180\n"
     ]
    },
    {
     "name": "stderr",
     "output_type": "stream",
     "text": [
      "Error with NGLNM9000K9: Invalid RIC\n"
     ]
    },
    {
     "name": "stdout",
     "output_type": "stream",
     "text": [
      "181\n"
     ]
    },
    {
     "name": "stderr",
     "output_type": "stream",
     "text": [
      "Error with NGLNM9050K9: Invalid RIC\n"
     ]
    },
    {
     "name": "stdout",
     "output_type": "stream",
     "text": [
      "182\n"
     ]
    },
    {
     "name": "stderr",
     "output_type": "stream",
     "text": [
      "Error with NGLNM9100K9: Invalid RIC\n"
     ]
    },
    {
     "name": "stdout",
     "output_type": "stream",
     "text": [
      "183\n"
     ]
    },
    {
     "name": "stderr",
     "output_type": "stream",
     "text": [
      "Error with NGLNM9150K9: Invalid RIC\n"
     ]
    },
    {
     "name": "stdout",
     "output_type": "stream",
     "text": [
      "184\n"
     ]
    },
    {
     "name": "stderr",
     "output_type": "stream",
     "text": [
      "Error with NGLNM9200K9: Invalid RIC\n"
     ]
    },
    {
     "name": "stdout",
     "output_type": "stream",
     "text": [
      "185\n"
     ]
    },
    {
     "name": "stderr",
     "output_type": "stream",
     "text": [
      "Error with NGLNM9250K9: Invalid RIC\n"
     ]
    },
    {
     "name": "stdout",
     "output_type": "stream",
     "text": [
      "186\n"
     ]
    },
    {
     "name": "stderr",
     "output_type": "stream",
     "text": [
      "Error with NGLNM9300K9: Invalid RIC\n"
     ]
    },
    {
     "name": "stdout",
     "output_type": "stream",
     "text": [
      "187\n"
     ]
    },
    {
     "name": "stderr",
     "output_type": "stream",
     "text": [
      "Error with NGLNM9350K9: Invalid RIC\n"
     ]
    },
    {
     "name": "stdout",
     "output_type": "stream",
     "text": [
      "188\n"
     ]
    },
    {
     "name": "stderr",
     "output_type": "stream",
     "text": [
      "Error with NGLNM9400K9: Invalid RIC\n"
     ]
    },
    {
     "name": "stdout",
     "output_type": "stream",
     "text": [
      "189\n"
     ]
    },
    {
     "name": "stderr",
     "output_type": "stream",
     "text": [
      "Error with NGLNM9450K9: Invalid RIC\n"
     ]
    },
    {
     "name": "stdout",
     "output_type": "stream",
     "text": [
      "190\n"
     ]
    },
    {
     "name": "stderr",
     "output_type": "stream",
     "text": [
      "Error with NGLNM9500K9: Invalid RIC\n"
     ]
    },
    {
     "name": "stdout",
     "output_type": "stream",
     "text": [
      "191\n"
     ]
    },
    {
     "name": "stderr",
     "output_type": "stream",
     "text": [
      "Error with NGLNM9550K9: Invalid RIC\n"
     ]
    },
    {
     "name": "stdout",
     "output_type": "stream",
     "text": [
      "192\n"
     ]
    },
    {
     "name": "stderr",
     "output_type": "stream",
     "text": [
      "Error with NGLNM9600K9: Invalid RIC\n"
     ]
    },
    {
     "name": "stdout",
     "output_type": "stream",
     "text": [
      "193\n"
     ]
    },
    {
     "name": "stderr",
     "output_type": "stream",
     "text": [
      "Error with NGLNM9650K9: Invalid RIC\n"
     ]
    },
    {
     "name": "stdout",
     "output_type": "stream",
     "text": [
      "194\n"
     ]
    },
    {
     "name": "stderr",
     "output_type": "stream",
     "text": [
      "Error with NGLNM9700K9: Invalid RIC\n"
     ]
    },
    {
     "name": "stdout",
     "output_type": "stream",
     "text": [
      "195\n"
     ]
    },
    {
     "name": "stderr",
     "output_type": "stream",
     "text": [
      "Error with NGLNM9750K9: Invalid RIC\n"
     ]
    },
    {
     "name": "stdout",
     "output_type": "stream",
     "text": [
      "196\n"
     ]
    },
    {
     "name": "stderr",
     "output_type": "stream",
     "text": [
      "Error with NGLNM9800K9: Invalid RIC\n"
     ]
    },
    {
     "name": "stdout",
     "output_type": "stream",
     "text": [
      "197\n"
     ]
    },
    {
     "name": "stderr",
     "output_type": "stream",
     "text": [
      "Error with NGLNM9850K9: Invalid RIC\n"
     ]
    },
    {
     "name": "stdout",
     "output_type": "stream",
     "text": [
      "198\n"
     ]
    },
    {
     "name": "stderr",
     "output_type": "stream",
     "text": [
      "Error with NGLNM9900K9: Invalid RIC\n"
     ]
    },
    {
     "name": "stdout",
     "output_type": "stream",
     "text": [
      "199\n"
     ]
    },
    {
     "name": "stderr",
     "output_type": "stream",
     "text": [
      "Error with NGLNM9950K9: Invalid RIC\n"
     ]
    },
    {
     "name": "stdout",
     "output_type": "stream",
     "text": [
      "0\n"
     ]
    },
    {
     "name": "stderr",
     "output_type": "stream",
     "text": [
      "Error with NGLNM0000W9: Invalid RIC\n"
     ]
    },
    {
     "name": "stdout",
     "output_type": "stream",
     "text": [
      "1\n"
     ]
    },
    {
     "name": "stderr",
     "output_type": "stream",
     "text": [
      "Error with NGLNM0050W9: Invalid RIC\n"
     ]
    },
    {
     "name": "stdout",
     "output_type": "stream",
     "text": [
      "2\n"
     ]
    },
    {
     "name": "stderr",
     "output_type": "stream",
     "text": [
      "Error with NGLNM0100W9: Invalid RIC\n"
     ]
    },
    {
     "name": "stdout",
     "output_type": "stream",
     "text": [
      "3\n"
     ]
    },
    {
     "name": "stderr",
     "output_type": "stream",
     "text": [
      "Error with NGLNM0150W9: Invalid RIC\n"
     ]
    },
    {
     "name": "stdout",
     "output_type": "stream",
     "text": [
      "4\n"
     ]
    },
    {
     "name": "stderr",
     "output_type": "stream",
     "text": [
      "Error with NGLNM0200W9: Invalid RIC\n"
     ]
    },
    {
     "name": "stdout",
     "output_type": "stream",
     "text": [
      "5\n"
     ]
    },
    {
     "name": "stderr",
     "output_type": "stream",
     "text": [
      "Error with NGLNM0250W9: Invalid RIC\n"
     ]
    },
    {
     "name": "stdout",
     "output_type": "stream",
     "text": [
      "6\n"
     ]
    },
    {
     "name": "stderr",
     "output_type": "stream",
     "text": [
      "Error with NGLNM0300W9: Invalid RIC\n"
     ]
    },
    {
     "name": "stdout",
     "output_type": "stream",
     "text": [
      "7\n"
     ]
    },
    {
     "name": "stderr",
     "output_type": "stream",
     "text": [
      "Error with NGLNM0350W9: Invalid RIC\n"
     ]
    },
    {
     "name": "stdout",
     "output_type": "stream",
     "text": [
      "8\n"
     ]
    },
    {
     "name": "stderr",
     "output_type": "stream",
     "text": [
      "Error with NGLNM0400W9: Invalid RIC\n"
     ]
    },
    {
     "name": "stdout",
     "output_type": "stream",
     "text": [
      "9\n"
     ]
    },
    {
     "name": "stderr",
     "output_type": "stream",
     "text": [
      "Error with NGLNM0450W9: Invalid RIC\n"
     ]
    },
    {
     "name": "stdout",
     "output_type": "stream",
     "text": [
      "10\n"
     ]
    },
    {
     "name": "stderr",
     "output_type": "stream",
     "text": [
      "Error with NGLNM0500W9: Invalid RIC\n"
     ]
    },
    {
     "name": "stdout",
     "output_type": "stream",
     "text": [
      "11\n"
     ]
    },
    {
     "name": "stderr",
     "output_type": "stream",
     "text": [
      "Error with NGLNM0550W9: Invalid RIC\n"
     ]
    },
    {
     "name": "stdout",
     "output_type": "stream",
     "text": [
      "12\n"
     ]
    },
    {
     "name": "stderr",
     "output_type": "stream",
     "text": [
      "Error with NGLNM0600W9: Invalid RIC\n"
     ]
    },
    {
     "name": "stdout",
     "output_type": "stream",
     "text": [
      "13\n"
     ]
    },
    {
     "name": "stderr",
     "output_type": "stream",
     "text": [
      "Error with NGLNM0650W9: Invalid RIC\n"
     ]
    },
    {
     "name": "stdout",
     "output_type": "stream",
     "text": [
      "14\n"
     ]
    },
    {
     "name": "stderr",
     "output_type": "stream",
     "text": [
      "Error with NGLNM0700W9: Invalid RIC\n"
     ]
    },
    {
     "name": "stdout",
     "output_type": "stream",
     "text": [
      "15\n"
     ]
    },
    {
     "name": "stderr",
     "output_type": "stream",
     "text": [
      "Error with NGLNM0750W9: Invalid RIC\n"
     ]
    },
    {
     "name": "stdout",
     "output_type": "stream",
     "text": [
      "16\n"
     ]
    },
    {
     "name": "stderr",
     "output_type": "stream",
     "text": [
      "Error with NGLNM0800W9: Invalid RIC\n"
     ]
    },
    {
     "name": "stdout",
     "output_type": "stream",
     "text": [
      "17\n"
     ]
    },
    {
     "name": "stderr",
     "output_type": "stream",
     "text": [
      "Error with NGLNM0850W9: Invalid RIC\n"
     ]
    },
    {
     "name": "stdout",
     "output_type": "stream",
     "text": [
      "18\n"
     ]
    },
    {
     "name": "stderr",
     "output_type": "stream",
     "text": [
      "Error with NGLNM0900W9: Invalid RIC\n"
     ]
    },
    {
     "name": "stdout",
     "output_type": "stream",
     "text": [
      "19\n"
     ]
    },
    {
     "name": "stderr",
     "output_type": "stream",
     "text": [
      "Error with NGLNM0950W9: Invalid RIC\n"
     ]
    },
    {
     "name": "stdout",
     "output_type": "stream",
     "text": [
      "20\n"
     ]
    },
    {
     "name": "stderr",
     "output_type": "stream",
     "text": [
      "Error with NGLNM1000W9: Invalid RIC\n"
     ]
    },
    {
     "name": "stdout",
     "output_type": "stream",
     "text": [
      "21\n"
     ]
    },
    {
     "name": "stderr",
     "output_type": "stream",
     "text": [
      "Error with NGLNM1050W9: Invalid RIC\n"
     ]
    },
    {
     "name": "stdout",
     "output_type": "stream",
     "text": [
      "22\n"
     ]
    },
    {
     "name": "stderr",
     "output_type": "stream",
     "text": [
      "Error with NGLNM1100W9: Invalid RIC\n"
     ]
    },
    {
     "name": "stdout",
     "output_type": "stream",
     "text": [
      "23\n"
     ]
    },
    {
     "name": "stderr",
     "output_type": "stream",
     "text": [
      "Error with NGLNM1150W9: Invalid RIC\n"
     ]
    },
    {
     "name": "stdout",
     "output_type": "stream",
     "text": [
      "24\n"
     ]
    },
    {
     "name": "stderr",
     "output_type": "stream",
     "text": [
      "Error with NGLNM1200W9: Invalid RIC\n"
     ]
    },
    {
     "name": "stdout",
     "output_type": "stream",
     "text": [
      "25\n"
     ]
    },
    {
     "name": "stderr",
     "output_type": "stream",
     "text": [
      "Error with NGLNM1250W9: Invalid RIC\n"
     ]
    },
    {
     "name": "stdout",
     "output_type": "stream",
     "text": [
      "26\n"
     ]
    },
    {
     "name": "stderr",
     "output_type": "stream",
     "text": [
      "Error with NGLNM1300W9: Invalid RIC\n"
     ]
    },
    {
     "name": "stdout",
     "output_type": "stream",
     "text": [
      "27\n"
     ]
    },
    {
     "name": "stderr",
     "output_type": "stream",
     "text": [
      "Error with NGLNM1350W9: Invalid RIC\n"
     ]
    },
    {
     "name": "stdout",
     "output_type": "stream",
     "text": [
      "28\n"
     ]
    },
    {
     "name": "stderr",
     "output_type": "stream",
     "text": [
      "Error with NGLNM1400W9: Invalid RIC\n"
     ]
    },
    {
     "name": "stdout",
     "output_type": "stream",
     "text": [
      "29\n"
     ]
    },
    {
     "name": "stderr",
     "output_type": "stream",
     "text": [
      "Error with NGLNM1450W9: Invalid RIC\n"
     ]
    },
    {
     "name": "stdout",
     "output_type": "stream",
     "text": [
      "30\n"
     ]
    },
    {
     "name": "stderr",
     "output_type": "stream",
     "text": [
      "Error with NGLNM1500W9: Invalid RIC\n"
     ]
    },
    {
     "name": "stdout",
     "output_type": "stream",
     "text": [
      "31\n"
     ]
    },
    {
     "name": "stderr",
     "output_type": "stream",
     "text": [
      "Error with NGLNM1550W9: Invalid RIC\n"
     ]
    },
    {
     "name": "stdout",
     "output_type": "stream",
     "text": [
      "32\n"
     ]
    },
    {
     "name": "stderr",
     "output_type": "stream",
     "text": [
      "Error with NGLNM1600W9: Invalid RIC\n"
     ]
    },
    {
     "name": "stdout",
     "output_type": "stream",
     "text": [
      "33\n"
     ]
    },
    {
     "name": "stderr",
     "output_type": "stream",
     "text": [
      "Error with NGLNM1650W9: Invalid RIC\n"
     ]
    },
    {
     "name": "stdout",
     "output_type": "stream",
     "text": [
      "34\n"
     ]
    },
    {
     "name": "stderr",
     "output_type": "stream",
     "text": [
      "Error with NGLNM1700W9: Invalid RIC\n"
     ]
    },
    {
     "name": "stdout",
     "output_type": "stream",
     "text": [
      "35\n"
     ]
    },
    {
     "name": "stderr",
     "output_type": "stream",
     "text": [
      "Error with NGLNM1750W9: Invalid RIC\n"
     ]
    },
    {
     "name": "stdout",
     "output_type": "stream",
     "text": [
      "36\n"
     ]
    },
    {
     "name": "stderr",
     "output_type": "stream",
     "text": [
      "Error with NGLNM1800W9: Invalid RIC\n"
     ]
    },
    {
     "name": "stdout",
     "output_type": "stream",
     "text": [
      "37\n"
     ]
    },
    {
     "name": "stderr",
     "output_type": "stream",
     "text": [
      "Error with NGLNM1850W9: Invalid RIC\n"
     ]
    },
    {
     "name": "stdout",
     "output_type": "stream",
     "text": [
      "38\n"
     ]
    },
    {
     "name": "stderr",
     "output_type": "stream",
     "text": [
      "Error with NGLNM1900W9: Invalid RIC\n"
     ]
    },
    {
     "name": "stdout",
     "output_type": "stream",
     "text": [
      "39\n"
     ]
    },
    {
     "name": "stderr",
     "output_type": "stream",
     "text": [
      "Error with NGLNM1950W9: Invalid RIC\n"
     ]
    },
    {
     "name": "stdout",
     "output_type": "stream",
     "text": [
      "40\n"
     ]
    },
    {
     "name": "stderr",
     "output_type": "stream",
     "text": [
      "Error with NGLNM2000W9: Invalid RIC\n"
     ]
    },
    {
     "name": "stdout",
     "output_type": "stream",
     "text": [
      "41\n"
     ]
    },
    {
     "name": "stderr",
     "output_type": "stream",
     "text": [
      "Error with NGLNM2050W9: Invalid RIC\n"
     ]
    },
    {
     "name": "stdout",
     "output_type": "stream",
     "text": [
      "42\n"
     ]
    },
    {
     "name": "stderr",
     "output_type": "stream",
     "text": [
      "Error with NGLNM2100W9: Invalid RIC\n"
     ]
    },
    {
     "name": "stdout",
     "output_type": "stream",
     "text": [
      "43\n"
     ]
    },
    {
     "name": "stderr",
     "output_type": "stream",
     "text": [
      "Error with NGLNM2150W9: Invalid RIC\n"
     ]
    },
    {
     "name": "stdout",
     "output_type": "stream",
     "text": [
      "44\n"
     ]
    },
    {
     "name": "stderr",
     "output_type": "stream",
     "text": [
      "Error with NGLNM2200W9: Invalid RIC\n"
     ]
    },
    {
     "name": "stdout",
     "output_type": "stream",
     "text": [
      "45\n"
     ]
    },
    {
     "name": "stderr",
     "output_type": "stream",
     "text": [
      "Error with NGLNM2250W9: Invalid RIC\n"
     ]
    },
    {
     "name": "stdout",
     "output_type": "stream",
     "text": [
      "46\n"
     ]
    },
    {
     "name": "stderr",
     "output_type": "stream",
     "text": [
      "Error with NGLNM2300W9: Invalid RIC\n"
     ]
    },
    {
     "name": "stdout",
     "output_type": "stream",
     "text": [
      "47\n"
     ]
    },
    {
     "name": "stderr",
     "output_type": "stream",
     "text": [
      "Error with NGLNM2350W9: Invalid RIC\n"
     ]
    },
    {
     "name": "stdout",
     "output_type": "stream",
     "text": [
      "48\n"
     ]
    },
    {
     "name": "stderr",
     "output_type": "stream",
     "text": [
      "Error with NGLNM2400W9: Invalid RIC\n"
     ]
    },
    {
     "name": "stdout",
     "output_type": "stream",
     "text": [
      "49\n"
     ]
    },
    {
     "name": "stderr",
     "output_type": "stream",
     "text": [
      "Error with NGLNM2450W9: Invalid RIC\n"
     ]
    },
    {
     "name": "stdout",
     "output_type": "stream",
     "text": [
      "50\n"
     ]
    },
    {
     "name": "stderr",
     "output_type": "stream",
     "text": [
      "Error with NGLNM2500W9: Invalid RIC\n"
     ]
    },
    {
     "name": "stdout",
     "output_type": "stream",
     "text": [
      "51\n"
     ]
    },
    {
     "name": "stderr",
     "output_type": "stream",
     "text": [
      "Error with NGLNM2550W9: Invalid RIC\n"
     ]
    },
    {
     "name": "stdout",
     "output_type": "stream",
     "text": [
      "52\n"
     ]
    },
    {
     "name": "stderr",
     "output_type": "stream",
     "text": [
      "Error with NGLNM2600W9: Invalid RIC\n"
     ]
    },
    {
     "name": "stdout",
     "output_type": "stream",
     "text": [
      "53\n"
     ]
    },
    {
     "name": "stderr",
     "output_type": "stream",
     "text": [
      "Error with NGLNM2650W9: Invalid RIC\n"
     ]
    },
    {
     "name": "stdout",
     "output_type": "stream",
     "text": [
      "54\n"
     ]
    },
    {
     "name": "stderr",
     "output_type": "stream",
     "text": [
      "Error with NGLNM2700W9: Invalid RIC\n"
     ]
    },
    {
     "name": "stdout",
     "output_type": "stream",
     "text": [
      "55\n"
     ]
    },
    {
     "name": "stderr",
     "output_type": "stream",
     "text": [
      "Error with NGLNM2750W9: Invalid RIC\n"
     ]
    },
    {
     "name": "stdout",
     "output_type": "stream",
     "text": [
      "56\n"
     ]
    },
    {
     "name": "stderr",
     "output_type": "stream",
     "text": [
      "Error with NGLNM2800W9: Invalid RIC\n"
     ]
    },
    {
     "name": "stdout",
     "output_type": "stream",
     "text": [
      "57\n"
     ]
    },
    {
     "name": "stderr",
     "output_type": "stream",
     "text": [
      "Error with NGLNM2850W9: Invalid RIC\n"
     ]
    },
    {
     "name": "stdout",
     "output_type": "stream",
     "text": [
      "58\n"
     ]
    },
    {
     "name": "stderr",
     "output_type": "stream",
     "text": [
      "Error with NGLNM2900W9: Invalid RIC\n"
     ]
    },
    {
     "name": "stdout",
     "output_type": "stream",
     "text": [
      "59\n"
     ]
    },
    {
     "name": "stderr",
     "output_type": "stream",
     "text": [
      "Error with NGLNM2950W9: Invalid RIC\n"
     ]
    },
    {
     "name": "stdout",
     "output_type": "stream",
     "text": [
      "60\n"
     ]
    },
    {
     "name": "stderr",
     "output_type": "stream",
     "text": [
      "Error with NGLNM3000W9: Invalid RIC\n"
     ]
    },
    {
     "name": "stdout",
     "output_type": "stream",
     "text": [
      "61\n"
     ]
    },
    {
     "name": "stderr",
     "output_type": "stream",
     "text": [
      "Error with NGLNM3050W9: Invalid RIC\n"
     ]
    },
    {
     "name": "stdout",
     "output_type": "stream",
     "text": [
      "62\n",
      "DataFrame is empty!\n",
      "63\n",
      "DataFrame is empty!\n",
      "64\n",
      "DataFrame is empty!\n",
      "65\n",
      "DataFrame is empty!\n",
      "66\n",
      "DataFrame is empty!\n",
      "67\n",
      "DataFrame is empty!\n",
      "68\n",
      "DataFrame is empty!\n",
      "69\n",
      "DataFrame is empty!\n",
      "70\n"
     ]
    },
    {
     "data": {
      "text/html": [
       "<div>\n",
       "<style>\n",
       "    .dataframe thead tr:only-child th {\n",
       "        text-align: right;\n",
       "    }\n",
       "\n",
       "    .dataframe thead th {\n",
       "        text-align: left;\n",
       "    }\n",
       "\n",
       "    .dataframe tbody tr th {\n",
       "        vertical-align: top;\n",
       "    }\n",
       "</style>\n",
       "<table border=\"1\" class=\"dataframe\">\n",
       "  <thead>\n",
       "    <tr style=\"text-align: right;\">\n",
       "      <th>NGLNM3500W9</th>\n",
       "      <th>HIGH</th>\n",
       "      <th>LOW</th>\n",
       "      <th>OPEN</th>\n",
       "      <th>CLOSE</th>\n",
       "      <th>VOLUME</th>\n",
       "      <th>COUNT</th>\n",
       "    </tr>\n",
       "    <tr>\n",
       "      <th>Date</th>\n",
       "      <th></th>\n",
       "      <th></th>\n",
       "      <th></th>\n",
       "      <th></th>\n",
       "      <th></th>\n",
       "      <th></th>\n",
       "    </tr>\n",
       "  </thead>\n",
       "  <tbody>\n",
       "    <tr>\n",
       "      <th>2019-09-25</th>\n",
       "      <td>NaN</td>\n",
       "      <td>NaN</td>\n",
       "      <td>NaN</td>\n",
       "      <td>0.96</td>\n",
       "      <td>200.0</td>\n",
       "      <td>-1.0</td>\n",
       "    </tr>\n",
       "  </tbody>\n",
       "</table>\n",
       "</div>"
      ],
      "text/plain": [
       "NGLNM3500W9  HIGH  LOW  OPEN  CLOSE  VOLUME  COUNT\n",
       "Date                                              \n",
       "2019-09-25    NaN  NaN   NaN   0.96   200.0   -1.0"
      ]
     },
     "metadata": {},
     "output_type": "display_data"
    },
    {
     "name": "stdout",
     "output_type": "stream",
     "text": [
      "71\n",
      "DataFrame is empty!\n",
      "72\n",
      "DataFrame is empty!\n",
      "73\n",
      "DataFrame is empty!\n",
      "74\n",
      "DataFrame is empty!\n",
      "75\n",
      "DataFrame is empty!\n",
      "76\n",
      "DataFrame is empty!\n",
      "77\n",
      "DataFrame is empty!\n",
      "78\n",
      "DataFrame is empty!\n",
      "79\n",
      "DataFrame is empty!\n",
      "80\n"
     ]
    },
    {
     "data": {
      "text/html": [
       "<div>\n",
       "<style>\n",
       "    .dataframe thead tr:only-child th {\n",
       "        text-align: right;\n",
       "    }\n",
       "\n",
       "    .dataframe thead th {\n",
       "        text-align: left;\n",
       "    }\n",
       "\n",
       "    .dataframe tbody tr th {\n",
       "        vertical-align: top;\n",
       "    }\n",
       "</style>\n",
       "<table border=\"1\" class=\"dataframe\">\n",
       "  <thead>\n",
       "    <tr style=\"text-align: right;\">\n",
       "      <th></th>\n",
       "      <th>HIGH</th>\n",
       "      <th>LOW</th>\n",
       "      <th>OPEN</th>\n",
       "      <th>CLOSE</th>\n",
       "      <th>VOLUME</th>\n",
       "      <th>COUNT</th>\n",
       "    </tr>\n",
       "    <tr>\n",
       "      <th>Date</th>\n",
       "      <th></th>\n",
       "      <th></th>\n",
       "      <th></th>\n",
       "      <th></th>\n",
       "      <th></th>\n",
       "      <th></th>\n",
       "    </tr>\n",
       "  </thead>\n",
       "  <tbody>\n",
       "    <tr>\n",
       "      <th>2019-09-25</th>\n",
       "      <td>NaN</td>\n",
       "      <td>NaN</td>\n",
       "      <td>NaN</td>\n",
       "      <td>0.96</td>\n",
       "      <td>200.0</td>\n",
       "      <td>-1.0</td>\n",
       "    </tr>\n",
       "    <tr>\n",
       "      <th>2019-07-29</th>\n",
       "      <td>NaN</td>\n",
       "      <td>NaN</td>\n",
       "      <td>NaN</td>\n",
       "      <td>2.78</td>\n",
       "      <td>100.0</td>\n",
       "      <td>-1.0</td>\n",
       "    </tr>\n",
       "    <tr>\n",
       "      <th>2019-08-12</th>\n",
       "      <td>NaN</td>\n",
       "      <td>NaN</td>\n",
       "      <td>NaN</td>\n",
       "      <td>2.33</td>\n",
       "      <td>100.0</td>\n",
       "      <td>-1.0</td>\n",
       "    </tr>\n",
       "    <tr>\n",
       "      <th>2019-08-19</th>\n",
       "      <td>NaN</td>\n",
       "      <td>NaN</td>\n",
       "      <td>NaN</td>\n",
       "      <td>2.66</td>\n",
       "      <td>200.0</td>\n",
       "      <td>-1.0</td>\n",
       "    </tr>\n",
       "    <tr>\n",
       "      <th>2019-08-21</th>\n",
       "      <td>NaN</td>\n",
       "      <td>NaN</td>\n",
       "      <td>NaN</td>\n",
       "      <td>2.57</td>\n",
       "      <td>200.0</td>\n",
       "      <td>-1.0</td>\n",
       "    </tr>\n",
       "    <tr>\n",
       "      <th>2019-09-27</th>\n",
       "      <td>NaN</td>\n",
       "      <td>NaN</td>\n",
       "      <td>NaN</td>\n",
       "      <td>2.12</td>\n",
       "      <td>100.0</td>\n",
       "      <td>-1.0</td>\n",
       "    </tr>\n",
       "  </tbody>\n",
       "</table>\n",
       "</div>"
      ],
      "text/plain": [
       "            HIGH  LOW  OPEN  CLOSE  VOLUME  COUNT\n",
       "Date                                             \n",
       "2019-09-25   NaN  NaN   NaN   0.96   200.0   -1.0\n",
       "2019-07-29   NaN  NaN   NaN   2.78   100.0   -1.0\n",
       "2019-08-12   NaN  NaN   NaN   2.33   100.0   -1.0\n",
       "2019-08-19   NaN  NaN   NaN   2.66   200.0   -1.0\n",
       "2019-08-21   NaN  NaN   NaN   2.57   200.0   -1.0\n",
       "2019-09-27   NaN  NaN   NaN   2.12   100.0   -1.0"
      ]
     },
     "metadata": {},
     "output_type": "display_data"
    },
    {
     "name": "stdout",
     "output_type": "stream",
     "text": [
      "81\n",
      "DataFrame is empty!\n",
      "82\n",
      "DataFrame is empty!\n",
      "83\n",
      "DataFrame is empty!\n",
      "84\n"
     ]
    },
    {
     "data": {
      "text/html": [
       "<div>\n",
       "<style>\n",
       "    .dataframe thead tr:only-child th {\n",
       "        text-align: right;\n",
       "    }\n",
       "\n",
       "    .dataframe thead th {\n",
       "        text-align: left;\n",
       "    }\n",
       "\n",
       "    .dataframe tbody tr th {\n",
       "        vertical-align: top;\n",
       "    }\n",
       "</style>\n",
       "<table border=\"1\" class=\"dataframe\">\n",
       "  <thead>\n",
       "    <tr style=\"text-align: right;\">\n",
       "      <th>NGLNM4200W9</th>\n",
       "      <th>HIGH</th>\n",
       "      <th>LOW</th>\n",
       "      <th>OPEN</th>\n",
       "      <th>CLOSE</th>\n",
       "      <th>VOLUME</th>\n",
       "      <th>COUNT</th>\n",
       "    </tr>\n",
       "    <tr>\n",
       "      <th>Date</th>\n",
       "      <th></th>\n",
       "      <th></th>\n",
       "      <th></th>\n",
       "      <th></th>\n",
       "      <th></th>\n",
       "      <th></th>\n",
       "    </tr>\n",
       "  </thead>\n",
       "  <tbody>\n",
       "    <tr>\n",
       "      <th>2019-09-25</th>\n",
       "      <td>NaN</td>\n",
       "      <td>NaN</td>\n",
       "      <td>NaN</td>\n",
       "      <td>0.96</td>\n",
       "      <td>200.0</td>\n",
       "      <td>-1.0</td>\n",
       "    </tr>\n",
       "    <tr>\n",
       "      <th>2019-07-29</th>\n",
       "      <td>NaN</td>\n",
       "      <td>NaN</td>\n",
       "      <td>NaN</td>\n",
       "      <td>2.78</td>\n",
       "      <td>100.0</td>\n",
       "      <td>-1.0</td>\n",
       "    </tr>\n",
       "    <tr>\n",
       "      <th>2019-08-12</th>\n",
       "      <td>NaN</td>\n",
       "      <td>NaN</td>\n",
       "      <td>NaN</td>\n",
       "      <td>2.33</td>\n",
       "      <td>100.0</td>\n",
       "      <td>-1.0</td>\n",
       "    </tr>\n",
       "    <tr>\n",
       "      <th>2019-08-19</th>\n",
       "      <td>NaN</td>\n",
       "      <td>NaN</td>\n",
       "      <td>NaN</td>\n",
       "      <td>2.66</td>\n",
       "      <td>200.0</td>\n",
       "      <td>-1.0</td>\n",
       "    </tr>\n",
       "    <tr>\n",
       "      <th>2019-08-21</th>\n",
       "      <td>NaN</td>\n",
       "      <td>NaN</td>\n",
       "      <td>NaN</td>\n",
       "      <td>2.57</td>\n",
       "      <td>200.0</td>\n",
       "      <td>-1.0</td>\n",
       "    </tr>\n",
       "    <tr>\n",
       "      <th>2019-09-27</th>\n",
       "      <td>NaN</td>\n",
       "      <td>NaN</td>\n",
       "      <td>NaN</td>\n",
       "      <td>2.12</td>\n",
       "      <td>100.0</td>\n",
       "      <td>-1.0</td>\n",
       "    </tr>\n",
       "    <tr>\n",
       "      <th>2019-08-15</th>\n",
       "      <td>NaN</td>\n",
       "      <td>NaN</td>\n",
       "      <td>NaN</td>\n",
       "      <td>3.36</td>\n",
       "      <td>200.0</td>\n",
       "      <td>-1.0</td>\n",
       "    </tr>\n",
       "    <tr>\n",
       "      <th>2019-10-09</th>\n",
       "      <td>NaN</td>\n",
       "      <td>NaN</td>\n",
       "      <td>NaN</td>\n",
       "      <td>2.59</td>\n",
       "      <td>300.0</td>\n",
       "      <td>-1.0</td>\n",
       "    </tr>\n",
       "  </tbody>\n",
       "</table>\n",
       "</div>"
      ],
      "text/plain": [
       "NGLNM4200W9  HIGH  LOW  OPEN  CLOSE  VOLUME  COUNT\n",
       "Date                                              \n",
       "2019-09-25    NaN  NaN   NaN   0.96   200.0   -1.0\n",
       "2019-07-29    NaN  NaN   NaN   2.78   100.0   -1.0\n",
       "2019-08-12    NaN  NaN   NaN   2.33   100.0   -1.0\n",
       "2019-08-19    NaN  NaN   NaN   2.66   200.0   -1.0\n",
       "2019-08-21    NaN  NaN   NaN   2.57   200.0   -1.0\n",
       "2019-09-27    NaN  NaN   NaN   2.12   100.0   -1.0\n",
       "2019-08-15    NaN  NaN   NaN   3.36   200.0   -1.0\n",
       "2019-10-09    NaN  NaN   NaN   2.59   300.0   -1.0"
      ]
     },
     "metadata": {},
     "output_type": "display_data"
    },
    {
     "name": "stdout",
     "output_type": "stream",
     "text": [
      "85\n",
      "DataFrame is empty!\n",
      "86\n",
      "DataFrame is empty!\n",
      "87\n",
      "DataFrame is empty!\n",
      "88\n",
      "DataFrame is empty!\n",
      "89\n",
      "DataFrame is empty!\n",
      "90\n"
     ]
    },
    {
     "data": {
      "text/html": [
       "<div>\n",
       "<style>\n",
       "    .dataframe thead tr:only-child th {\n",
       "        text-align: right;\n",
       "    }\n",
       "\n",
       "    .dataframe thead th {\n",
       "        text-align: left;\n",
       "    }\n",
       "\n",
       "    .dataframe tbody tr th {\n",
       "        vertical-align: top;\n",
       "    }\n",
       "</style>\n",
       "<table border=\"1\" class=\"dataframe\">\n",
       "  <thead>\n",
       "    <tr style=\"text-align: right;\">\n",
       "      <th></th>\n",
       "      <th>HIGH</th>\n",
       "      <th>LOW</th>\n",
       "      <th>OPEN</th>\n",
       "      <th>CLOSE</th>\n",
       "      <th>VOLUME</th>\n",
       "      <th>COUNT</th>\n",
       "    </tr>\n",
       "    <tr>\n",
       "      <th>Date</th>\n",
       "      <th></th>\n",
       "      <th></th>\n",
       "      <th></th>\n",
       "      <th></th>\n",
       "      <th></th>\n",
       "      <th></th>\n",
       "    </tr>\n",
       "  </thead>\n",
       "  <tbody>\n",
       "    <tr>\n",
       "      <th>2019-09-25</th>\n",
       "      <td>NaN</td>\n",
       "      <td>NaN</td>\n",
       "      <td>NaN</td>\n",
       "      <td>0.96</td>\n",
       "      <td>200.0</td>\n",
       "      <td>-1.0</td>\n",
       "    </tr>\n",
       "    <tr>\n",
       "      <th>2019-07-29</th>\n",
       "      <td>NaN</td>\n",
       "      <td>NaN</td>\n",
       "      <td>NaN</td>\n",
       "      <td>2.78</td>\n",
       "      <td>100.0</td>\n",
       "      <td>-1.0</td>\n",
       "    </tr>\n",
       "    <tr>\n",
       "      <th>2019-08-12</th>\n",
       "      <td>NaN</td>\n",
       "      <td>NaN</td>\n",
       "      <td>NaN</td>\n",
       "      <td>2.33</td>\n",
       "      <td>100.0</td>\n",
       "      <td>-1.0</td>\n",
       "    </tr>\n",
       "    <tr>\n",
       "      <th>2019-08-19</th>\n",
       "      <td>NaN</td>\n",
       "      <td>NaN</td>\n",
       "      <td>NaN</td>\n",
       "      <td>2.66</td>\n",
       "      <td>200.0</td>\n",
       "      <td>-1.0</td>\n",
       "    </tr>\n",
       "    <tr>\n",
       "      <th>2019-08-21</th>\n",
       "      <td>NaN</td>\n",
       "      <td>NaN</td>\n",
       "      <td>NaN</td>\n",
       "      <td>2.57</td>\n",
       "      <td>200.0</td>\n",
       "      <td>-1.0</td>\n",
       "    </tr>\n",
       "    <tr>\n",
       "      <th>2019-09-27</th>\n",
       "      <td>NaN</td>\n",
       "      <td>NaN</td>\n",
       "      <td>NaN</td>\n",
       "      <td>2.12</td>\n",
       "      <td>100.0</td>\n",
       "      <td>-1.0</td>\n",
       "    </tr>\n",
       "    <tr>\n",
       "      <th>2019-08-15</th>\n",
       "      <td>NaN</td>\n",
       "      <td>NaN</td>\n",
       "      <td>NaN</td>\n",
       "      <td>3.36</td>\n",
       "      <td>200.0</td>\n",
       "      <td>-1.0</td>\n",
       "    </tr>\n",
       "    <tr>\n",
       "      <th>2019-10-09</th>\n",
       "      <td>NaN</td>\n",
       "      <td>NaN</td>\n",
       "      <td>NaN</td>\n",
       "      <td>2.59</td>\n",
       "      <td>300.0</td>\n",
       "      <td>-1.0</td>\n",
       "    </tr>\n",
       "    <tr>\n",
       "      <th>2019-08-01</th>\n",
       "      <td>NaN</td>\n",
       "      <td>NaN</td>\n",
       "      <td>NaN</td>\n",
       "      <td>4.16</td>\n",
       "      <td>100.0</td>\n",
       "      <td>-1.0</td>\n",
       "    </tr>\n",
       "    <tr>\n",
       "      <th>2019-10-09</th>\n",
       "      <td>NaN</td>\n",
       "      <td>NaN</td>\n",
       "      <td>NaN</td>\n",
       "      <td>4.46</td>\n",
       "      <td>300.0</td>\n",
       "      <td>-1.0</td>\n",
       "    </tr>\n",
       "  </tbody>\n",
       "</table>\n",
       "</div>"
      ],
      "text/plain": [
       "            HIGH  LOW  OPEN  CLOSE  VOLUME  COUNT\n",
       "Date                                             \n",
       "2019-09-25   NaN  NaN   NaN   0.96   200.0   -1.0\n",
       "2019-07-29   NaN  NaN   NaN   2.78   100.0   -1.0\n",
       "2019-08-12   NaN  NaN   NaN   2.33   100.0   -1.0\n",
       "2019-08-19   NaN  NaN   NaN   2.66   200.0   -1.0\n",
       "2019-08-21   NaN  NaN   NaN   2.57   200.0   -1.0\n",
       "2019-09-27   NaN  NaN   NaN   2.12   100.0   -1.0\n",
       "2019-08-15   NaN  NaN   NaN   3.36   200.0   -1.0\n",
       "2019-10-09   NaN  NaN   NaN   2.59   300.0   -1.0\n",
       "2019-08-01   NaN  NaN   NaN   4.16   100.0   -1.0\n",
       "2019-10-09   NaN  NaN   NaN   4.46   300.0   -1.0"
      ]
     },
     "metadata": {},
     "output_type": "display_data"
    },
    {
     "name": "stdout",
     "output_type": "stream",
     "text": [
      "91\n",
      "DataFrame is empty!\n",
      "92\n",
      "DataFrame is empty!\n",
      "93\n",
      "DataFrame is empty!\n",
      "94\n",
      "DataFrame is empty!\n",
      "95\n",
      "DataFrame is empty!\n",
      "96\n",
      "DataFrame is empty!\n",
      "97\n",
      "DataFrame is empty!\n",
      "98\n",
      "DataFrame is empty!\n",
      "99\n",
      "DataFrame is empty!\n",
      "100\n",
      "DataFrame is empty!\n",
      "101\n",
      "DataFrame is empty!\n",
      "102\n",
      "DataFrame is empty!\n",
      "103\n",
      "DataFrame is empty!\n",
      "104\n",
      "DataFrame is empty!\n",
      "105\n",
      "DataFrame is empty!\n",
      "106\n",
      "DataFrame is empty!\n",
      "107\n",
      "DataFrame is empty!\n",
      "108\n",
      "DataFrame is empty!\n",
      "109\n",
      "DataFrame is empty!\n",
      "110\n",
      "DataFrame is empty!\n",
      "111\n",
      "DataFrame is empty!\n",
      "112\n",
      "DataFrame is empty!\n",
      "113\n",
      "DataFrame is empty!\n",
      "114\n",
      "DataFrame is empty!\n",
      "115\n",
      "DataFrame is empty!\n",
      "116\n",
      "DataFrame is empty!\n",
      "117\n",
      "DataFrame is empty!\n",
      "118\n",
      "DataFrame is empty!\n",
      "119\n",
      "DataFrame is empty!\n",
      "120\n",
      "DataFrame is empty!\n",
      "121\n",
      "DataFrame is empty!\n",
      "122\n",
      "DataFrame is empty!\n",
      "123\n",
      "DataFrame is empty!\n",
      "124\n",
      "DataFrame is empty!\n",
      "125\n",
      "DataFrame is empty!\n",
      "126\n",
      "DataFrame is empty!\n",
      "127\n",
      "DataFrame is empty!\n",
      "128\n",
      "DataFrame is empty!\n",
      "129\n",
      "DataFrame is empty!\n",
      "130\n"
     ]
    }
   ],
   "source": [
    "startdate='1000-01-20T15:04:05'\n",
    "current_date=time.strftime(\"%Y-%m-%d\")\n",
    "#download calls\n",
    "teller=0\n",
    "for ticker in tickers_calls:\n",
    "    print(tickers_calls.index(ticker))\n",
    "    try:\n",
    "        TTF=ek.get_timeseries(ticker,start_date=startdate,end_date=current_date)\n",
    "        TTF = TTF.dropna(subset=['VOLUME'])\n",
    "        if TTF.empty:\n",
    "            print('DataFrame is empty!')\n",
    "        else:\n",
    "            if teller == 0:\n",
    "                Main_DF_Calls = TTF\n",
    "                teller += 1               \n",
    "            else:\n",
    "                Main_DF_Calls=Main_DF_Calls.append(TTF)\n",
    "    except:\n",
    "        pass\n",
    "Main_DF_Calls = Main_DF_Calls.sort_index()\n",
    "Main_DF_Calls['type'] = 'CALL'\n",
    "\n",
    "\n",
    "#download puts\n",
    "teller=0\n",
    "for ticker in tickers_puts:\n",
    "    print(tickers_puts.index(ticker))\n",
    "    try:\n",
    "        TTF=ek.get_timeseries(ticker,start_date=startdate,end_date=current_date)\n",
    "        TTF = TTF.dropna(subset=['VOLUME'])\n",
    "        if TTF.empty:\n",
    "            print('DataFrame is empty!')\n",
    "        else:\n",
    "            if teller == 0:\n",
    "                Main_DF_Puts = TTF\n",
    "                teller += 1               \n",
    "            else:\n",
    "                Main_DF_Puts=Main_DF_Puts.append(TTF)\n",
    "            display(Main_DF_Puts)\n",
    "    except:\n",
    "        pass\n",
    "# print(TTF.dropna(subset=['VOLUME']))\n",
    "Main_DF_Puts = Main_DF_Puts.sort_index()\n",
    "Main_DF_Puts['type'] = 'PUT'\n",
    "\n",
    "Main_DF = Main_DF_Calls\n",
    "Main_DF = Main_DF.append(Main_DF_Puts)\n",
    "Main_DF = Main_DF.sort_index()"
   ]
  },
  {
   "cell_type": "code",
   "execution_count": null,
   "metadata": {},
   "outputs": [],
   "source": [
    "display(Main_DF)"
   ]
  }
 ],
 "metadata": {
  "kernelspec": {
   "display_name": "Python (env1)",
   "language": "python",
   "name": "env1"
  }
 },
 "nbformat": 4,
 "nbformat_minor": 2
}
